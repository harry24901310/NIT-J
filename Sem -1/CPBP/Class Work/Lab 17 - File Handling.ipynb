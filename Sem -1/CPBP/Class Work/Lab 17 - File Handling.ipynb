{
 "cells": [
  {
   "cell_type": "code",
   "execution_count": null,
   "id": "c81adda7-7052-48bc-852c-19e123489a37",
   "metadata": {},
   "outputs": [
    {
     "ename": "SyntaxError",
     "evalue": "(unicode error) 'unicodeescape' codec can't decode bytes in position 2-3: truncated \\UXXXXXXXX escape (1260314251.py, line 3)",
     "output_type": "error",
     "traceback": [
      "\u001b[1;36m  Cell \u001b[1;32mIn[1], line 3\u001b[1;36m\u001b[0m\n\u001b[1;33m    os.rename(\"C:\\Users\\ashad\\OneDrive\\Desktop\", \"file_handling_test/students.txt\")\u001b[0m\n\u001b[1;37m                                               ^\u001b[0m\n\u001b[1;31mSyntaxError\u001b[0m\u001b[1;31m:\u001b[0m (unicode error) 'unicodeescape' codec can't decode bytes in position 2-3: truncated \\UXXXXXXXX escape\n"
     ]
    }
   ],
   "source": [
    "# WAP to rename the file file1.txt to students.txt\n",
    "import os\n",
    "os.rename(\"file_handling_test/file1_temp.txt\", \"file_handling_test/students.txt\")"
   ]
  },
  {
   "cell_type": "code",
   "execution_count": 2,
   "id": "64ae1331-2dd1-41df-9ce5-24cc12f151e9",
   "metadata": {},
   "outputs": [],
   "source": [
    "# WAP to delete a file called students.txt\n",
    "\n",
    "os.remove( \"file_handling_test/students.txt\")"
   ]
  },
  {
   "cell_type": "code",
   "execution_count": 4,
   "id": "bfc37c2d-0590-4fdb-a065-422b41fd03a6",
   "metadata": {},
   "outputs": [],
   "source": [
    "# WAP to create a new directroy in the current directory\n",
    "\n",
    "os.mkdir(\"new_dir\")"
   ]
  },
  {
   "cell_type": "code",
   "execution_count": 6,
   "id": "2696914a-0347-454a-8d6c-d05e7e797a29",
   "metadata": {},
   "outputs": [],
   "source": [
    "# WAP that changes curr dur to newly created dir new_dir\n",
    "\n",
    "os.chdir(\"new_dir\")"
   ]
  },
  {
   "cell_type": "code",
   "execution_count": 2,
   "id": "25cb3763-d8a0-4787-94b5-f6ee125df339",
   "metadata": {},
   "outputs": [
    {
     "ename": "NameError",
     "evalue": "name 'os' is not defined",
     "output_type": "error",
     "traceback": [
      "\u001b[1;31m---------------------------------------------------------------------------\u001b[0m",
      "\u001b[1;31mNameError\u001b[0m                                 Traceback (most recent call last)",
      "Cell \u001b[1;32mIn[2], line 1\u001b[0m\n\u001b[1;32m----> 1\u001b[0m \u001b[43mos\u001b[49m\u001b[38;5;241m.\u001b[39mgetcwd()\n",
      "\u001b[1;31mNameError\u001b[0m: name 'os' is not defined"
     ]
    }
   ],
   "source": [
    "os.getcwd()"
   ]
  },
  {
   "cell_type": "code",
   "execution_count": 10,
   "id": "fc8048e8-d091-45b7-861e-f8f443f4cf37",
   "metadata": {},
   "outputs": [],
   "source": [
    "os.chdir(\"../\")"
   ]
  },
  {
   "cell_type": "code",
   "execution_count": 11,
   "id": "23e819f9-2680-48c3-964d-d65d7c7b7789",
   "metadata": {},
   "outputs": [],
   "source": [
    "# WAP to delete new_dir\n",
    "\n",
    "os.rmdir(\"new_dir\")"
   ]
  },
  {
   "cell_type": "code",
   "execution_count": 16,
   "id": "722b04d4-d142-4a67-b9dc-bcfa199677a4",
   "metadata": {},
   "outputs": [
    {
     "name": "stdout",
     "output_type": "stream",
     "text": [
      "C\\students\\UG\\btech.docx\n"
     ]
    }
   ],
   "source": [
    "# WAP that uses os.path.join() to form a valid file path\n",
    "f = os.path.join(\"C\", \"students\", \"UG\", \"btech.docx\")\n",
    "print(f)"
   ]
  },
  {
   "cell_type": "markdown",
   "id": "3e5682f9-d77d-4ddf-8c4c-4d7ca8e9496e",
   "metadata": {},
   "source": [
    "# Methods from the OS Module"
   ]
  },
  {
   "cell_type": "code",
   "execution_count": 24,
   "id": "361d9387-4723-41e0-abdb-4c9f4c8c1a02",
   "metadata": {},
   "outputs": [
    {
     "name": "stdout",
     "output_type": "stream",
     "text": [
      "False\n"
     ]
    }
   ],
   "source": [
    "print(os.path.isabs(\"Python\\\\Strings.docx\") == '')"
   ]
  },
  {
   "cell_type": "code",
   "execution_count": 25,
   "id": "2554f7e4-e100-4cc8-81f6-a3d04a048e0e",
   "metadata": {},
   "outputs": [
    {
     "name": "stdout",
     "output_type": "stream",
     "text": [
      "False\n"
     ]
    }
   ],
   "source": [
    "print(os.path.isabs(\"Python\\\\Strings.docx\"))"
   ]
  },
  {
   "cell_type": "code",
   "execution_count": 38,
   "id": "44912bcf-dcfc-4b90-9e43-cc43e53f753a",
   "metadata": {},
   "outputs": [
    {
     "name": "stdout",
     "output_type": "stream",
     "text": [
      "Tabs:  0\n",
      "Spaces:  50\n",
      "Newline:  10\n"
     ]
    }
   ],
   "source": [
    "# WAP that counts the number of tabs, spaces, newline characters in a file\n",
    "\n",
    "t = 0\n",
    "s = 0\n",
    "n = 0\n",
    "with open(\"file_handling_test/file1.py\") as f1:\n",
    "    a = f1.read()\n",
    "    for i in a:\n",
    "        if i == '\\t':\n",
    "            t += 1\n",
    "        elif i == ' ': \n",
    "            s += 1\n",
    "        elif i == '\\n':\n",
    "            n += 1\n",
    "print(\"Tabs: \", t)\n",
    "print(\"Spaces: \", s)\n",
    "print(\"Newline: \", n)"
   ]
  },
  {
   "cell_type": "code",
   "execution_count": null,
   "id": "9f0acc7a-5389-4692-82d4-3fcd311ab8d9",
   "metadata": {},
   "outputs": [],
   "source": []
  },
  {
   "cell_type": "code",
   "execution_count": null,
   "id": "0894903c-c167-4a1b-a51f-29fc760df4d5",
   "metadata": {},
   "outputs": [],
   "source": []
  },
  {
   "cell_type": "code",
   "execution_count": null,
   "id": "f0549b1b-148d-4d96-896a-76e678bc7f83",
   "metadata": {},
   "outputs": [],
   "source": []
  },
  {
   "cell_type": "code",
   "execution_count": null,
   "id": "75278b92-b03f-4a98-a112-4596645bbeed",
   "metadata": {},
   "outputs": [],
   "source": []
  }
 ],
 "metadata": {
  "kernelspec": {
   "display_name": "Python 3",
   "language": "python",
   "name": "python3"
  },
  "language_info": {
   "codemirror_mode": {
    "name": "ipython",
    "version": 3
   },
   "file_extension": ".py",
   "mimetype": "text/x-python",
   "name": "python",
   "nbconvert_exporter": "python",
   "pygments_lexer": "ipython3",
   "version": "3.11.5"
  }
 },
 "nbformat": 4,
 "nbformat_minor": 5
}

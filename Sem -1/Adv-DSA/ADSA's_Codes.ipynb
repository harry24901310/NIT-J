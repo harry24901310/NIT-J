{
  "nbformat": 4,
  "nbformat_minor": 0,
  "metadata": {
    "colab": {
      "provenance": []
    },
    "kernelspec": {
      "name": "python3",
      "display_name": "Python 3"
    },
    "language_info": {
      "name": "python"
    }
  },
  "cells": [
    {
      "cell_type": "markdown",
      "source": [
        "# Selection Sort"
      ],
      "metadata": {
        "id": "Geb0mHwiy6ho"
      }
    },
    {
      "cell_type": "code",
      "execution_count": 2,
      "metadata": {
        "colab": {
          "base_uri": "https://localhost:8080/"
        },
        "id": "BmIaajv6ogVq",
        "outputId": "49fcfdd1-fbad-45e5-ea0e-81b3cd2fbb9d"
      },
      "outputs": [
        {
          "output_type": "stream",
          "name": "stdout",
          "text": [
            "Sorted array: [1, 2, 3, 5, 6, 7, 9, 18]\n"
          ]
        }
      ],
      "source": [
        "def selection_sort(arr):\n",
        "    n = len(arr)\n",
        "    for i in range(n):\n",
        "        min_index = i\n",
        "        for j in range(i + 1, n):\n",
        "            if arr[j] < arr[min_index]:\n",
        "                min_index = j\n",
        "        # Swap the found minimum element with the first element\n",
        "        arr[i], arr[min_index] = arr[min_index], arr[i]\n",
        "a = [2,5,1,6,3,18,9,7]\n",
        "selection_sort(a)\n",
        "print(\"Sorted array:\", a)"
      ]
    },
    {
      "cell_type": "markdown",
      "source": [
        "# Bubble Sort"
      ],
      "metadata": {
        "id": "vHz1M0BAzDLB"
      }
    },
    {
      "cell_type": "code",
      "source": [
        "def bubble_sort(arr):\n",
        "    n = len(arr)\n",
        "    for i in range(n):\n",
        "        for j in range(0,n-1):\n",
        "            if arr[j] > arr[j+1]:\n",
        "                arr[j], arr[j + 1] = arr[j + 1], arr[j]\n",
        "\n",
        "a = [2,5,1,6,3,18,9,7]\n",
        "bubble_sort(a)\n",
        "print(\"Sorted array:\", a)"
      ],
      "metadata": {
        "colab": {
          "base_uri": "https://localhost:8080/"
        },
        "id": "adoTOLmGrMps",
        "outputId": "1c2f97ee-bb37-4d30-8b2f-a9509473f3d1"
      },
      "execution_count": 1,
      "outputs": [
        {
          "output_type": "stream",
          "name": "stdout",
          "text": [
            "Sorted array: [1, 2, 3, 5, 6, 7, 9, 18]\n"
          ]
        }
      ]
    },
    {
      "cell_type": "markdown",
      "source": [
        "# Linear Search"
      ],
      "metadata": {
        "id": "uDbotHgszH5t"
      }
    },
    {
      "cell_type": "code",
      "source": [
        "def linear_search_unsorted(arr,key):\n",
        "    for i in range(len(arr)):\n",
        "        if arr[i] == key:\n",
        "            return i\n",
        "    return -1\n",
        "Sorted_array = [2,5,1,6,3,18,9,7]\n",
        "key = 18\n",
        "result = linear_search_unsorted(Sorted_array,key)\n",
        "if result !=-1:\n",
        "    print(f\"Item present at index --> {result}\")\n",
        "else:\n",
        "    print(\"Item is not present\")"
      ],
      "metadata": {
        "colab": {
          "base_uri": "https://localhost:8080/"
        },
        "id": "m1wL_4sNrM3d",
        "outputId": "d7d3af41-5163-4cb8-d132-c46db9e17130"
      },
      "execution_count": 3,
      "outputs": [
        {
          "output_type": "stream",
          "name": "stdout",
          "text": [
            "Item present at index --> 5\n"
          ]
        }
      ]
    },
    {
      "cell_type": "markdown",
      "source": [
        "# Linear Search using Recursion"
      ],
      "metadata": {
        "id": "7U2Rya3szQLs"
      }
    },
    {
      "cell_type": "code",
      "source": [
        "def unsorted_ls(arr,key,index = 0):\n",
        "    #Base case\n",
        "    if index>= len(arr):\n",
        "        return -1\n",
        "    elif arr[index] == key:\n",
        "        return index\n",
        "    return unsorted_ls(unsorted_array,key,index+1)\n",
        "unsorted_array = [2,5,1,6,3,18,9,7]\n",
        "key = 18\n",
        "result = unsorted_ls(unsorted_array,key)\n",
        "if result !=-1:\n",
        "    print(f\"Item present at index --> {result}\")\n",
        "else:\n",
        "    print(\"Item is not present\")"
      ],
      "metadata": {
        "colab": {
          "base_uri": "https://localhost:8080/"
        },
        "id": "GQK4sIWktsze",
        "outputId": "2456a550-83fc-457d-b1b3-6428de919e48"
      },
      "execution_count": 7,
      "outputs": [
        {
          "output_type": "stream",
          "name": "stdout",
          "text": [
            "Item present at index --> 5\n"
          ]
        }
      ]
    },
    {
      "cell_type": "markdown",
      "source": [
        "# Binary Search"
      ],
      "metadata": {
        "id": "CFhP0evtzYcZ"
      }
    },
    {
      "cell_type": "code",
      "source": [
        "def binary_search(arr, key):\n",
        "    left = 0\n",
        "    right = len(arr) - 1\n",
        "    while left <= right:\n",
        "        mid = (left + right) // 2\n",
        "        if arr[mid] == key:\n",
        "            return mid\n",
        "        elif arr[mid] < key:\n",
        "            left = mid + 1  #Move to the upper half\n",
        "        else:\n",
        "            right = mid - 1  #Move to the lower half\n",
        "    return -1\n",
        "unsorted_array = [1, 2, 3, 5, 6, 7, 9, 18,19]\n",
        "key = 5\n",
        "result = binary_search(unsorted_array,key)\n",
        "if result !=-1:\n",
        "    print(f\"Item present at index --> {result}\")\n",
        "else:\n",
        "    print(\"Item is not present\")"
      ],
      "metadata": {
        "colab": {
          "base_uri": "https://localhost:8080/"
        },
        "id": "hPzsoiQqyDGM",
        "outputId": "364836e0-3ad8-45df-a831-dd2ed919d72a"
      },
      "execution_count": 5,
      "outputs": [
        {
          "output_type": "stream",
          "name": "stdout",
          "text": [
            "Item present at index --> 3\n"
          ]
        }
      ]
    },
    {
      "cell_type": "markdown",
      "source": [
        "# BST Operations\n",
        "## The fundamental operations on a BST include:\n",
        "\n",
        "**Insertion:** Adding a new value to the tree while maintaining the BST properties.\n",
        "\n",
        "**Deletion:** Removing a value from the tree while ensuring the tree remains a BST.\n",
        "\n",
        "**Update:** Modifying a value in the tree, typically by deleting and re-inserting it."
      ],
      "metadata": {
        "id": "rEhTn17KzfNz"
      }
    },
    {
      "cell_type": "code",
      "source": [
        "class Node:\n",
        "    \"\"\"Class representing a single node in the BST.\"\"\"\n",
        "    def __init__(self, key):\n",
        "        self.key = key\n",
        "        self.left = None\n",
        "        self.right = None\n",
        "\n",
        "class BST:\n",
        "    \"\"\"Binary Search Tree implementation.\"\"\"\n",
        "    def __init__(self):\n",
        "        self.root = None\n",
        "\n",
        "    def insert(self, key):\n",
        "        \"\"\"Insert a key into the BST.\"\"\"\n",
        "        self.root = self._insert(self.root, key)\n",
        "\n",
        "    def _insert(self, root, key):\n",
        "        if root is None:\n",
        "            return Node(key)\n",
        "        if key < root.key:\n",
        "            root.left = self._insert(root.left, key)\n",
        "        elif key > root.key:\n",
        "            root.right = self._insert(root.right, key)\n",
        "        return root\n",
        "\n",
        "    def delete(self, key):\n",
        "        \"\"\"Delete a key from the BST.\"\"\"\n",
        "        self.root = self._delete(self.root, key)\n",
        "\n",
        "    def _delete(self, root, key):\n",
        "        if root is None:\n",
        "            return root\n",
        "\n",
        "        # Traverse to find the node to delete\n",
        "        if key < root.key:\n",
        "            root.left = self._delete(root.left, key)\n",
        "        elif key > root.key:\n",
        "            root.right = self._delete(root.right, key)\n",
        "        else:\n",
        "            # Node with only one child or no child\n",
        "            if root.left is None:\n",
        "                return root.right\n",
        "            elif root.right is None:\n",
        "                return root.left\n",
        "\n",
        "            # Node with two children: Get the inorder successor (smallest in the right subtree)\n",
        "            successor = self._min_value_node(root.right)\n",
        "            root.key = successor.key  # Replace root key with successor's key\n",
        "            root.right = self._delete(root.right, successor.key)  # Delete the successor\n",
        "\n",
        "        return root\n",
        "\n",
        "    def update(self, old_key, new_key):\n",
        "        \"\"\"Update a key in the BST.\"\"\"\n",
        "        self.delete(old_key)  # Delete the old key\n",
        "        self.insert(new_key)  # Insert the new key\n",
        "\n",
        "    def _min_value_node(self, node):\n",
        "        \"\"\"Get the node with the smallest key in a subtree.\"\"\"\n",
        "        current = node\n",
        "        while current.left is not None:\n",
        "            current = current.left\n",
        "        return current\n",
        "\n",
        "    def inorder_traversal(self):\n",
        "        \"\"\"Perform an in-order traversal and return the keys as a list.\"\"\"\n",
        "        result = []\n",
        "        self._inorder(self.root, result)\n",
        "        return result\n",
        "\n",
        "    def _inorder(self, root, result):\n",
        "        if root:\n",
        "            self._inorder(root.left, result)\n",
        "            result.append(root.key)\n",
        "            self._inorder(root.right, result)\n",
        "\n",
        "# Example usage\n",
        "if __name__ == \"__main__\":\n",
        "    tree = BST()\n",
        "    # Insert elements\n",
        "    tree.insert(50)\n",
        "    tree.insert(30)\n",
        "    tree.insert(20)\n",
        "    tree.insert(40)\n",
        "    tree.insert(70)\n",
        "    tree.insert(60)\n",
        "    tree.insert(80)\n",
        "\n",
        "    print(\"In-order traversal after insertion:\", tree.inorder_traversal())\n",
        "\n",
        "    # Delete an element\n",
        "    tree.delete(20)\n",
        "    print(\"In-order traversal after deleting 20:\", tree.inorder_traversal())\n",
        "\n",
        "    # Update an element\n",
        "    tree.update(40, 45)\n",
        "    print(\"In-order traversal after updating 40 to 45:\", tree.inorder_traversal())\n"
      ],
      "metadata": {
        "colab": {
          "base_uri": "https://localhost:8080/"
        },
        "id": "cSUfM-ToyDZG",
        "outputId": "a827d41a-46c7-45ce-a731-18bca4fdc204"
      },
      "execution_count": 6,
      "outputs": [
        {
          "output_type": "stream",
          "name": "stdout",
          "text": [
            "In-order traversal after insertion: [20, 30, 40, 50, 60, 70, 80]\n",
            "In-order traversal after deleting 20: [30, 40, 50, 60, 70, 80]\n",
            "In-order traversal after updating 40 to 45: [30, 45, 50, 60, 70, 80]\n"
          ]
        }
      ]
    },
    {
      "cell_type": "code",
      "source": [],
      "metadata": {
        "id": "KzKUETtAyDl0"
      },
      "execution_count": null,
      "outputs": []
    }
  ]
}
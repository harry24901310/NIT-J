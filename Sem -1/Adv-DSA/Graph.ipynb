{
 "cells": [
  {
   "cell_type": "markdown",
   "id": "7f00f71b-00db-4132-b468-e1654fb7d7e2",
   "metadata": {},
   "source": [
    "### BFS for connected graph"
   ]
  },
  {
   "cell_type": "code",
   "execution_count": 7,
   "id": "7bac950f-1418-4dc9-8b6d-e9f952094e0c",
   "metadata": {},
   "outputs": [
    {
     "name": "stdout",
     "output_type": "stream",
     "text": [
      "BFS Traversal starting from source_node: 1\n",
      "1 0 3 4 2 5 "
     ]
    }
   ],
   "source": [
    "from collections import deque\n",
    "def bfs(graph, source_node):\n",
    "    queue = deque([source_node])\n",
    "    visited = set([source_node])\n",
    "    while queue:\n",
    "        node = queue.popleft()\n",
    "        print(node, end=\" \")       \n",
    "        for adj in graph[node]:\n",
    "            if adj not in visited:\n",
    "                visited.add(adj)\n",
    "                queue.append(adj)\n",
    "graph = {\n",
    "        0: [1, 2], 1: [0, 3, 4], 2: [0, 5], 3: [1], 4: [1, 5], 5: [2, 4]\n",
    "        }\n",
    "source_node = 1\n",
    "print(\"BFS Traversal starting from source_node:\", source_node)\n",
    "bfs(graph, 1)"
   ]
  },
  {
   "cell_type": "markdown",
   "id": "1cec15b5-6feb-4315-9f33-d842701811f4",
   "metadata": {},
   "source": [
    "### DFS for connected graph"
   ]
  },
  {
   "cell_type": "code",
   "execution_count": 8,
   "id": "a55e8966-b350-40cd-b408-2759e67e437b",
   "metadata": {},
   "outputs": [
    {
     "name": "stdout",
     "output_type": "stream",
     "text": [
      "DFS Traversal starting from node 1:\n",
      "0 1 3 4 5 2 "
     ]
    }
   ],
   "source": [
    "def dfs(graph, node, visited=None):\n",
    "    if visited is None:\n",
    "        visited = set()\n",
    "    visited.add(node)\n",
    "    print(node, end=\" \")\n",
    "    \n",
    "    for adj in graph[node]:\n",
    "        if adj not in visited:\n",
    "            dfs(graph, adj, visited)\n",
    "\n",
    "# Define a graph as an adjacency list\n",
    "graph = {\n",
    "        0: [1, 2], 1: [0, 3, 4], 2: [0, 5],  3: [1], 4: [1, 5], 5: [2, 4]\n",
    "        }\n",
    "\n",
    "print(\"DFS Traversal starting from node 1:\")\n",
    "dfs(graph, 0)"
   ]
  },
  {
   "cell_type": "markdown",
   "id": "d97405b6-75ba-4ab5-9de9-7b92ac97e25b",
   "metadata": {},
   "source": [
    "### DFS(Iterative approach) for connected graph"
   ]
  },
  {
   "cell_type": "code",
   "execution_count": 17,
   "id": "b0fa45ac-5e85-47e6-8028-bfa2ab8c4e48",
   "metadata": {},
   "outputs": [
    {
     "name": "stdout",
     "output_type": "stream",
     "text": [
      "DFS Traversal starting from node 0:\n",
      "0 1 3 4 5 2 "
     ]
    }
   ],
   "source": [
    "def iterative_dfs(graph, source_node):\n",
    "    visited = set()\n",
    "    stack = [source_node]\n",
    "    \n",
    "    while stack:\n",
    "        node = stack.pop()\n",
    "        if node not in visited:\n",
    "            print(node, end=\" \")\n",
    "            visited.add(node)\n",
    "            \n",
    "            for adj in reverse(graph[node]):\n",
    "                if adj is not visited:\n",
    "                    stack.push(node)\n",
    "            # stack.extend(reversed(graph[node]))\n",
    "\n",
    "# Define a graph as an adjacency list\n",
    "graph = {\n",
    "        0: [1, 2],\n",
    "        1: [0, 3, 4],\n",
    "        2: [0, 5],\n",
    "        3: [1],\n",
    "        4: [1, 5],\n",
    "        5: [2, 4]\n",
    "    }\n",
    "\n",
    "print(\"DFS Traversal starting from node 0:\")\n",
    "dfs(graph, 0)"
   ]
  },
  {
   "cell_type": "markdown",
   "id": "a07938ab-bea6-4587-94a4-80a2b02c660c",
   "metadata": {},
   "source": [
    "### DFS(Iterative approach) Traversal for Disconnected Graph"
   ]
  },
  {
   "cell_type": "code",
   "execution_count": 51,
   "id": "4a7672ee-cf3d-401e-b10c-31e3772bd91f",
   "metadata": {},
   "outputs": [
    {
     "name": "stdout",
     "output_type": "stream",
     "text": [
      "DFS Traversal for Disconnected Graph:\n",
      "0 1 3 2 4 5 "
     ]
    }
   ],
   "source": [
    "def iterative_dfs_disconnected(graph):\n",
    "    visited = set()\n",
    "\n",
    "    for node in graph:\n",
    "        if node not in visited:\n",
    "            # Start a new DFS from each unvisited node\n",
    "            stack = [node]          \n",
    "            while stack:\n",
    "                current = stack.pop()\n",
    "                if current not in visited:\n",
    "                    print(current, end=\" \")  \n",
    "                    visited.add(current)\n",
    "                    for adj in reversed(graph[current]):\n",
    "                        if adj not in visited:\n",
    "                             stack.append(adj)\n",
    "graph = {\n",
    "        0: [1, 2, 3],\n",
    "        1: [3],\n",
    "        2: [0],\n",
    "        3: [0, 1],\n",
    "        4: [5],\n",
    "        5: [4] \n",
    "    }\n",
    "print(\"DFS Traversal for Disconnected Graph:\")\n",
    "iterative_dfs_disconnected(graph)"
   ]
  },
  {
   "cell_type": "markdown",
   "id": "41e26919-b533-4500-a5ad-0b5eaed1fdad",
   "metadata": {},
   "source": [
    "### BFS Traversal for Disconnected Graph"
   ]
  },
  {
   "cell_type": "code",
   "execution_count": 24,
   "id": "5814a1a0-7d41-43ef-9bff-14f32e1e7dde",
   "metadata": {},
   "outputs": [
    {
     "name": "stdout",
     "output_type": "stream",
     "text": [
      "BFS Traversal starting from node 0:\n",
      "0 1 2 3 4 "
     ]
    }
   ],
   "source": [
    "from collections import deque\n",
    "def bfs(graph):\n",
    "    visited = set()\n",
    " # Traverse all nodes in the graph\n",
    "    for node in graph:\n",
    "        if node not in visited:\n",
    "            queue = deque([node])\n",
    "            while queue:\n",
    "                current = queue.popleft()\n",
    "                if current not in visited:\n",
    "                    print(current, end=\" \")  \n",
    "                    visited.add(current)\n",
    "\n",
    "                    for adj in graph[current]:\n",
    "                        if adj not in visited:\n",
    "                            queue.append(adj)\n",
    "graph = {\n",
    "        0: [1, 2],\n",
    "        1: [0],\n",
    "        2: [0],\n",
    "        3: [4],\n",
    "        4: [3]\n",
    "    }\n",
    "print(\"BFS Traversal starting from node 0:\")\n",
    "bfs(graph)"
   ]
  },
  {
   "cell_type": "markdown",
   "id": "d5d8a017-262a-4bdf-a15d-1e4ef16885b3",
   "metadata": {},
   "source": [
    "### Adjacency matrix for Undirected graph"
   ]
  },
  {
   "cell_type": "code",
   "execution_count": 62,
   "id": "891b7e5f-f902-4358-aac9-68cf2ecf66b3",
   "metadata": {},
   "outputs": [
    {
     "name": "stdout",
     "output_type": "stream",
     "text": [
      "Adjacency Matrix:\n",
      "[0, 1, 0, 0, 1]\n",
      "[1, 1, 1, 1, 1]\n",
      "[0, 1, 0, 1, 0]\n",
      "[0, 1, 1, 0, 1]\n",
      "[1, 1, 0, 1, 0]\n",
      "\n",
      "Edge between 1 and 2: True\n",
      "Edge between 0 and 3: False\n"
     ]
    }
   ],
   "source": [
    "def add_edge(adj_matrix, i, j, weight=1):\n",
    "    adj_matrix[i][j] = 1\n",
    "    adj_matrix[j][i] = 1                               #  mat[i][j] = 1. if the graph is directed \n",
    "\n",
    "def display_matrix(adj_matrix):\n",
    "    for row in adj_matrix:\n",
    "        print(row)\n",
    "        #print(\" \".join(map(str, row)))\n",
    "        \n",
    "def has_edge(adj_matrix, i, j):                        # Check if there's an edge from u to v\n",
    "        return adj_matrix[i][j] == 1\n",
    "\n",
    "V = 5\n",
    "adj_matrix = [[0] * V for _ in range(V)]               # A 5x5 matrix filled with 0s\n",
    "add_edge(adj_matrix, 0, 1)\n",
    "add_edge(adj_matrix, 0, 4)\n",
    "add_edge(adj_matrix, 1, 2)\n",
    "add_edge(adj_matrix, 1, 3)\n",
    "add_edge(adj_matrix, 1, 4)\n",
    "add_edge(adj_matrix, 1, 1)\n",
    "add_edge(adj_matrix, 3, 4)\n",
    "add_edge(adj_matrix, 3, 2)\n",
    "\n",
    "print(\"Adjacency Matrix:\")\n",
    "display_matrix(adj_matrix)\n",
    "\n",
    "print(\"\\nEdge between 1 and 2:\", has_edge(adj_matrix, 1, 2))  \n",
    "print(\"Edge between 0 and 3:\", has_edge(adj_matrix, 0, 3))"
   ]
  },
  {
   "cell_type": "markdown",
   "id": "c96428c7-eaf6-4795-8996-663fe64af460",
   "metadata": {},
   "source": [
    "### BFS Traversal in Adjacency matrix"
   ]
  },
  {
   "cell_type": "code",
   "execution_count": 61,
   "id": "37baa0c4-108e-489a-a673-540cd084c9db",
   "metadata": {},
   "outputs": [
    {
     "name": "stdout",
     "output_type": "stream",
     "text": [
      "\n",
      "Adjacency Matrix:\n",
      "[0, 1, 0, 0, 1]\n",
      "[1, 0, 1, 1, 1]\n",
      "[0, 1, 0, 1, 0]\n",
      "[0, 1, 1, 0, 1]\n",
      "[1, 1, 0, 1, 0]\n",
      "\n",
      "Edge between 1 and 2: True\n",
      "Edge between 0 and 3: False\n",
      "\n",
      "BFS Traversal starting from source_node: 1\n",
      "1 0 2 3 4 "
     ]
    }
   ],
   "source": [
    "def add_edge(adj_matrix, i, j, weight=1):\n",
    "    adj_matrix[i][j] = 1\n",
    "    adj_matrix[j][i] = 1                                                                                                                      #  mat[i][j] = 1. if the graph is directed \n",
    "\n",
    "def display_matrix(adj_matrix):\n",
    "    for row in adj_matrix:\n",
    "        print(row)\n",
    "        #print(\" \".join(map(str, row)))\n",
    "        \n",
    "def has_edge(adj_matrix, i, j):                                                                                                                 # Check if there's an edge from u to v\n",
    "        return adj_matrix[i][j] == 1\n",
    "\n",
    "from collections import deque\n",
    "def bfs(adj_matrix, source_node):\n",
    "    queue = deque([source_node])\n",
    "    visited = set([source_node])\n",
    "    while queue:\n",
    "        node = queue.popleft()\n",
    "        print(node, end=\" \")  \n",
    "        \n",
    "        # Check all possible nodes to see if they are connected to the current node\n",
    "        for adj in range(len(adj_matrix)):\n",
    "            if adj_matrix[node][adj] == 1 and adj not in visited:\n",
    "                visited.add(adj)\n",
    "                queue.append(adj)\n",
    "\n",
    "V = 5\n",
    "adj_matrix = [[0] * V for _ in range(V)]                                                                                                      # A 5x5 matrix filled with 0s\n",
    "add_edge(adj_matrix, 0, 1)\n",
    "add_edge(adj_matrix, 0, 4)\n",
    "add_edge(adj_matrix, 1, 2)\n",
    "add_edge(adj_matrix, 1, 3)\n",
    "add_edge(adj_matrix, 1, 4)\n",
    "add_edge(adj_matrix, 3, 4)\n",
    "add_edge(adj_matrix, 3, 2)\n",
    "\n",
    "print(\"\\nAdjacency Matrix:\")\n",
    "display_matrix(adj_matrix)\n",
    "\n",
    "print(\"\\nEdge between 1 and 2:\", has_edge(adj_matrix, 1, 2))  \n",
    "print(\"Edge between 0 and 3:\", has_edge(adj_matrix, 0, 3))\n",
    "\n",
    "source_node = 1\n",
    "print(\"\\nBFS Traversal starting from source_node:\", source_node)\n",
    "bfs(adj_matrix, source_node)"
   ]
  },
  {
   "cell_type": "markdown",
   "id": "7f38049c-7d52-4077-9bb9-8fdd766ff3d7",
   "metadata": {},
   "source": [
    "### Adjacency matrix for directed graph"
   ]
  },
  {
   "cell_type": "code",
   "execution_count": 43,
   "id": "e1d89bed-33d6-4c44-b2f8-c16bde150ebd",
   "metadata": {},
   "outputs": [
    {
     "name": "stdout",
     "output_type": "stream",
     "text": [
      "Adjacency Matrix:\n",
      "[0, 1, 0, 0, 1]\n",
      "[0, 1, 1, 1, 1]\n",
      "[0, 0, 0, 0, 0]\n",
      "[0, 0, 1, 0, 1]\n",
      "[0, 0, 0, 0, 0]\n",
      "Edge between 1 and 2: True\n",
      "Edge between 0 and 3: False\n"
     ]
    }
   ],
   "source": [
    "def add_edge(adj_matrix, i, j, weight=1):\n",
    "    adj_matrix[i][j] = 1\n",
    "    # adj_matrix[j][i] = 1                              #  mat[i][j] = 1. if the graph is directed \n",
    "\n",
    "def display_matrix(adj_matrix):\n",
    "    for row in adj_matrix:\n",
    "        print(row)\n",
    "        #print(\" \".join(map(str, row)))\n",
    "        \n",
    "def has_edge(adj_matrix, i, j):                        # Check if there's an edge from u to v\n",
    "        return adj_matrix[i][j] == 1\n",
    "\n",
    "V = 5\n",
    "adj_matrix = [[0] * V for _ in range(V)]               # A 5x5 matrix filled with 0s\n",
    "add_edge(adj_matrix, 0, 1)\n",
    "add_edge(adj_matrix, 0, 4)\n",
    "add_edge(adj_matrix, 1, 2)\n",
    "add_edge(adj_matrix, 1, 3)\n",
    "add_edge(adj_matrix, 1, 4)\n",
    "add_edge(adj_matrix, 1, 1)\n",
    "add_edge(adj_matrix, 3, 4)\n",
    "add_edge(adj_matrix, 3, 2)\n",
    "\n",
    "print(\"Adjacency Matrix:\")\n",
    "display_matrix(adj_matrix)\n",
    "\n",
    "print(\"Edge between 1 and 2:\", has_edge(adj_matrix, 1, 2))  \n",
    "print(\"Edge between 0 and 3:\", has_edge(adj_matrix, 0, 3))"
   ]
  },
  {
   "cell_type": "markdown",
   "id": "54a0c72e-0cfd-48c5-a504-3982b635345a",
   "metadata": {},
   "source": [
    "### Adjacency list for undirected graph"
   ]
  },
  {
   "cell_type": "code",
   "execution_count": 2,
   "id": "77d2bf5d-c8b8-440d-aae2-f492a9cc453e",
   "metadata": {},
   "outputs": [
    {
     "name": "stdout",
     "output_type": "stream",
     "text": [
      "Graph representation (adjacency list):\n",
      "0: [1, 2]\n",
      "1: [0, 3, 2]\n",
      "2: [0, 1, 3]\n",
      "3: [1, 2, 4]\n",
      "4: [3]\n"
     ]
    }
   ],
   "source": [
    "# Function to add edges to the graph\n",
    "def add_edge(graph, u, v):\n",
    "    # Add edge from u to v\n",
    "    if u in graph:\n",
    "        graph[u].append((v))\n",
    "    else:\n",
    "        graph[u] = [(v)]\n",
    "\n",
    "    # add the reverse edge from v to u\n",
    "    if v in graph:\n",
    "        graph[v].append(u)\n",
    "    else:\n",
    "        graph[v] = [u]    \n",
    "    \n",
    "graph = {}\n",
    "add_edge(graph, 0, 1)\n",
    "add_edge(graph, 0, 2)\n",
    "add_edge(graph, 1, 3)\n",
    "add_edge(graph, 2, 1)\n",
    "add_edge(graph, 2, 3)\n",
    "add_edge(graph, 3, 4)\n",
    "\n",
    "print(\"Graph representation (adjacency list):\")\n",
    "for node in graph:\n",
    "    print(f\"{node}: {graph[node]}\")"
   ]
  },
  {
   "cell_type": "markdown",
   "id": "f49e47d6-b222-4aa3-841e-1ac999899dc9",
   "metadata": {},
   "source": [
    "### Dijkstra Algorithm"
   ]
  },
  {
   "cell_type": "code",
   "execution_count": 3,
   "id": "58eb9dd5-29eb-4152-b51a-10954efc1230",
   "metadata": {},
   "outputs": [
    {
     "name": "stdout",
     "output_type": "stream",
     "text": [
      "\n",
      "Shortest path distances from source node: A\n",
      "Node A: 0\n",
      "Node B: 2\n",
      "Node C: 5\n",
      "Node D: 6\n",
      "Node E: 4\n"
     ]
    }
   ],
   "source": [
    "import heapq\n",
    "\n",
    "def add_edge(graph, u, v, weight):\n",
    "    if u in graph:\n",
    "        graph[u].append((v, weight))\n",
    "    else:\n",
    "        graph[u] = [(v, weight)]     \n",
    "def dijkstra(graph, source):\n",
    "    # Initialize distances from source to all nodes as infinity and to source itself as 0\n",
    "    distances = {node: float('inf') for node in graph}   # initially distances = {'A':0, 'B':inf, 'C':inf ,'D':inf , 'E':inf}\n",
    "    distances[source] = 0\n",
    "    # Priority queue to keep track of the minimum distance node that hasn't been processed yet\n",
    "    priority_queue = [(0, source)]  \n",
    "    heapq.heapify(priority_queue)\n",
    "    \n",
    "    while priority_queue:\n",
    "        current_distance, current_node = heapq.heappop(priority_queue)\n",
    "        if current_distance > distances[current_node]:\n",
    "            continue\n",
    "        for neighbor, weight in graph[current_node]:\n",
    "            distance = current_distance + weight\n",
    "            if distance < distances[neighbor]:\n",
    "                distances[neighbor] = distance\n",
    "                heapq.heappush(priority_queue, (distance, neighbor))\n",
    "    return distances\n",
    "# Define the graph\n",
    "graph = {\n",
    "    'A': [('B', 2), ('E', 4)],\n",
    "    'B': [('C', 3)],\n",
    "    'C': [('D', 1)],\n",
    "    'D': [('E', 3)],\n",
    "    'E': [('A', 4), ('D', 3)]  \n",
    "}\n",
    "source_node = 'A'\n",
    "shortest_paths = dijkstra(graph, source_node)\n",
    "print(\"\\nShortest path distances from source node:\", source_node)\n",
    "for node, distance in shortest_paths.items():\n",
    "    print(f\"Node {node}: {distance}\")"
   ]
  },
  {
   "cell_type": "markdown",
   "id": "858afdeb-6a63-4fb9-82e2-530315757885",
   "metadata": {},
   "source": [
    "### DFS-Based Topological Sort"
   ]
  },
  {
   "cell_type": "code",
   "execution_count": 1,
   "id": "34cac77d-d776-456d-af36-2e902253b96d",
   "metadata": {},
   "outputs": [
    {
     "name": "stdout",
     "output_type": "stream",
     "text": [
      "Topologically sorted order: [5, 4, 2, 3, 1, 0]\n"
     ]
    }
   ],
   "source": [
    "def topological_sort_dfs(graph, num_vertices):\n",
    "    visited = [False] * num_vertices\n",
    "    stack = []\n",
    "    def dfs(v):\n",
    "        visited[v] = True\n",
    "        for neighbor in graph[v]:\n",
    "            if not visited[neighbor]:\n",
    "                dfs(neighbor)\n",
    "        # Push to stack after all neighbors are processed\n",
    "        stack.append(v)\n",
    "    # Apply DFS for each vertex\n",
    "    for i in range(num_vertices):\n",
    "        if not visited[i]:\n",
    "            dfs(i)\n",
    "\n",
    "    # Reverse stack to get topological order\n",
    "    return stack[::-1]\n",
    "\n",
    "num_vertices = 6\n",
    "graph = [[] for _ in range(num_vertices)]\n",
    "graph[5].extend([0, 2])\n",
    "graph[4].extend([0, 1])\n",
    "graph[2].extend([3])\n",
    "graph[3].extend([1])\n",
    "\n",
    "sorted_order = topological_sort_dfs(graph, num_vertices)\n",
    "print(\"Topologically sorted order:\", sorted_order)\n"
   ]
  },
  {
   "cell_type": "markdown",
   "id": "96db3e49-25ed-4df8-86c8-e1cf95eebd86",
   "metadata": {},
   "source": [
    "### Topological sorting using indegree method"
   ]
  },
  {
   "cell_type": "code",
   "execution_count": 1,
   "id": "15a70340-ffd9-428e-9a7b-d856920646e6",
   "metadata": {},
   "outputs": [
    {
     "name": "stdout",
     "output_type": "stream",
     "text": [
      "Topological Sort: ['A', 'B', 'C', 'D', 'E', 'F']\n"
     ]
    }
   ],
   "source": [
    "from collections import deque, defaultdict\n",
    "\n",
    "def topological_sort(graph):\n",
    "    indegree = {node: 0 for node in graph}\n",
    "    for node in graph:\n",
    "        for neighbor in graph[node]:\n",
    "            indegree[neighbor] += 1\n",
    "\n",
    "    queue = deque([node for node in indegree if indegree[node] == 0])\n",
    "    topological_order = []\n",
    "\n",
    "    while queue:\n",
    "        node = queue.popleft()\n",
    "        topological_order.append(node)\n",
    "\n",
    "        for neighbor in graph[node]:\n",
    "            indegree[neighbor] -= 1    \n",
    "            if indegree[neighbor] == 0:\n",
    "                queue.append(neighbor)  \n",
    "\n",
    "    # Check for cycle in the graph\n",
    "    if len(topological_order) == len(graph):\n",
    "        return topological_order\n",
    "    else:\n",
    "        return \"Cycle detected\"\n",
    "\n",
    "graph = {\n",
    "    'A': ['C', 'D'],\n",
    "    'B': ['D'],\n",
    "    'C': ['E'],\n",
    "    'D': ['E', 'F'],\n",
    "    'E': [],\n",
    "    'F': []\n",
    "}\n",
    "\n",
    "print(\"Topological Sort:\", topological_sort(graph))"
   ]
  },
  {
   "cell_type": "markdown",
   "id": "1cc39e55-e6b7-4ca9-abf4-a14cdead3901",
   "metadata": {},
   "source": [
    "### Lab-9"
   ]
  },
  {
   "cell_type": "markdown",
   "id": "fda058eb-1599-4094-899d-1eb144a6a503",
   "metadata": {},
   "source": [
    "###  1. Given an 2D binary grid, where \"1\" represents land and \"0\" represents water, return the largest island in the grid."
   ]
  },
  {
   "cell_type": "code",
   "execution_count": 9,
   "id": "41eae52a-37b4-42bd-aea5-3cac694ef440",
   "metadata": {},
   "outputs": [
    {
     "name": "stdout",
     "output_type": "stream",
     "text": [
      "6\n"
     ]
    }
   ],
   "source": [
    "def largestIsland(grid):\n",
    "    if not grid or not grid[0]:\n",
    "        return 0\n",
    "\n",
    "    rows, cols = len(grid), len(grid[0])\n",
    "    visited = set()\n",
    "\n",
    "    def dfs(r, c):\n",
    "        # Boundary and visited checks\n",
    "        if r < 0 or r >= rows or c < 0 or c >= cols or grid[r][c] == 0 or (r, c) in visited:\n",
    "            return 0\n",
    "        visited.add((r, c))\n",
    "        # Explore all four directions\n",
    "        return 1 + dfs(r + 1, c) + dfs(r - 1, c) + dfs(r, c + 1) + dfs(r, c - 1)\n",
    "\n",
    "    max_island_size = 0\n",
    "    for r in range(rows):\n",
    "        for c in range(cols):\n",
    "            if grid[r][c] == 1 and (r, c) not in visited:\n",
    "                # Calculate the size of the island using DFS\n",
    "                island_size = dfs(r, c)\n",
    "                max_island_size = max(max_island_size, island_size)\n",
    "\n",
    "    return max_island_size\n",
    "    \n",
    "grid = [\n",
    "    [1, 1, 0, 0],\n",
    "    [1, 0, 0, 1],\n",
    "    [0, 0, 1, 1],\n",
    "    [0, 1, 1, 1]\n",
    "]\n",
    "\n",
    "print(largestIsland(grid))  "
   ]
  },
  {
   "cell_type": "markdown",
   "id": "644899de-c44e-4494-a946-c1f5e204f126",
   "metadata": {},
   "source": [
    "### 2. Given an binary matrix grid, where \"1\" represents land and \"0\" represents water, return the size of the largest island in the grid after changing at most one 0 to be 1."
   ]
  },
  {
   "cell_type": "code",
   "execution_count": 10,
   "id": "ffb7e373-6d6b-4393-a493-3b8b1864e377",
   "metadata": {},
   "outputs": [
    {
     "name": "stdout",
     "output_type": "stream",
     "text": [
      "9\n"
     ]
    }
   ],
   "source": [
    "def largestIsland(grid):\n",
    "    if not grid or not grid[0]:\n",
    "        return 0\n",
    "\n",
    "    rows, cols = len(grid), len(grid[0])\n",
    "    island_id = 2  # Start island IDs from 2 to differentiate from 0 and 1\n",
    "    island_sizes = {}  # Map of island_id -> size\n",
    "    directions = [(0, 1), (1, 0), (0, -1), (-1, 0)]\n",
    "\n",
    "    # Helper function to calculate island size using DFS\n",
    "    def dfs(r, c, id):\n",
    "        if r < 0 or r >= rows or c < 0 or c >= cols or grid[r][c] != 1:\n",
    "            return 0\n",
    "        grid[r][c] = id\n",
    "        size = 1\n",
    "        for dr, dc in directions:\n",
    "            size += dfs(r + dr, c + dc, id)\n",
    "        return size\n",
    "\n",
    "    # Step 1: Assign IDs and calculate sizes for all islands\n",
    "    for r in range(rows):\n",
    "        for c in range(cols):\n",
    "            if grid[r][c] == 1:\n",
    "                size = dfs(r, c, island_id)\n",
    "                island_sizes[island_id] = size\n",
    "                island_id += 1\n",
    "\n",
    "    # Step 2: Evaluate the largest island possible by flipping one \"0\"\n",
    "    max_island_size = max(island_sizes.values(), default=0)  # Maximum size of current islands\n",
    "    for r in range(rows):\n",
    "        for c in range(cols):\n",
    "            if grid[r][c] == 0:\n",
    "                # Use a set to avoid counting the same island twice\n",
    "                seen_islands = set()\n",
    "                new_size = 1  # Start with the flipped cell\n",
    "                for dr, dc in directions:\n",
    "                    nr, nc = r + dr, c + dc\n",
    "                    if 0 <= nr < rows and 0 <= nc < cols and grid[nr][nc] > 1:\n",
    "                        island_id = grid[nr][nc]\n",
    "                        if island_id not in seen_islands:\n",
    "                            seen_islands.add(island_id)\n",
    "                            new_size += island_sizes[island_id]\n",
    "                max_island_size = max(max_island_size, new_size)\n",
    "\n",
    "    # Step 3: Return the maximum island size found\n",
    "    return max_island_size\n",
    "\n",
    "grid = [\n",
    "    [1, 0, 0, 1],\n",
    "    [1, 1, 0, 0],\n",
    "    [0, 0, 1, 1],\n",
    "    [1, 1, 1, 0]\n",
    "]\n",
    "\n",
    "print(largestIsland(grid))"
   ]
  },
  {
   "cell_type": "markdown",
   "id": "3adc6bc1-52cc-48d3-8a85-57b4f3187f34",
   "metadata": {},
   "source": [
    "### 3. Given an integers matrix, return the length of the longest increasing path in the matrix."
   ]
  },
  {
   "cell_type": "code",
   "execution_count": 11,
   "id": "0823c9a3-9d6b-49d1-8e6b-a1b0e4f510be",
   "metadata": {},
   "outputs": [
    {
     "name": "stdout",
     "output_type": "stream",
     "text": [
      "4\n"
     ]
    }
   ],
   "source": [
    "def longest_increasing_path(matrix):\n",
    "    if not matrix or not matrix[0]:\n",
    "        return 0\n",
    "\n",
    "    m, n = len(matrix), len(matrix[0])\n",
    "    memo = [[-1] * n for _ in range(m)]\n",
    "\n",
    "    def dfs(i, j):\n",
    "        # If already computed, return the cached result\n",
    "        if memo[i][j] != -1:\n",
    "            return memo[i][j]\n",
    "\n",
    "        # Explore four possible directions\n",
    "        directions = [(1, 0), (-1, 0), (0, 1), (0, -1)]\n",
    "        max_path = 1\n",
    "\n",
    "        for di, dj in directions:\n",
    "            ni, nj = i + di, j + dj\n",
    "            # Check bounds and if the next cell has a larger value\n",
    "            if 0 <= ni < m and 0 <= nj < n and matrix[ni][nj] > matrix[i][j]:\n",
    "                max_path = max(max_path, 1 + dfs(ni, nj))\n",
    "\n",
    "        # Cache the result before returning\n",
    "        memo[i][j] = max_path\n",
    "        return max_path\n",
    "\n",
    "    # Compute the longest increasing path starting from each cell\n",
    "    longest_path = 0\n",
    "    for i in range(m):\n",
    "        for j in range(n):\n",
    "            longest_path = max(longest_path, dfs(i, j))\n",
    "\n",
    "    return longest_path\n",
    "matrix = [\n",
    "    [9, 9, 4],\n",
    "    [6, 6, 8],\n",
    "    [2, 1, 1]\n",
    "]\n",
    "print(longest_increasing_path(matrix)) "
   ]
  },
  {
   "cell_type": "markdown",
   "id": "d6e5363c-a620-4ef3-a281-1f35db498870",
   "metadata": {},
   "source": [
    "### 4. Detect a cycle in an undirected graph using DFS."
   ]
  },
  {
   "cell_type": "code",
   "execution_count": 12,
   "id": "f4a2f957-9602-420b-bd6b-571036a85158",
   "metadata": {},
   "outputs": [
    {
     "name": "stdout",
     "output_type": "stream",
     "text": [
      "Graph contains a cycle\n"
     ]
    }
   ],
   "source": [
    "def add_edge(graph, v, w):\n",
    "    graph[v].append(w)\n",
    "    graph[w].append(v)\n",
    "\n",
    "def dfs_cycle(v, visited, parent, graph):\n",
    "    visited[v] = True  \n",
    "\n",
    "    for neighbor in graph[v]:\n",
    "        if not visited[neighbor]:\n",
    "            if dfs_cycle(neighbor, visited, v, graph):  # Recursive DFS call\n",
    "                return True\n",
    "        # If an adjacent vertex is visited and is not the parent, cycle is detected\n",
    "        elif neighbor != parent:\n",
    "            return True\n",
    "    return False\n",
    "\n",
    "def has_cycle(graph, num_vertices):\n",
    "    visited = [False] * num_vertices                # initially, visited = [False, False, False, False, False]\n",
    "\n",
    "    for i in range(num_vertices):\n",
    "        if not visited[i]:  \n",
    "            if dfs_cycle(i, visited, -1, graph):  \n",
    "                return True\n",
    "    return False\n",
    "\n",
    "num_vertices = 5\n",
    "graph = [[] for _ in range(num_vertices)]\n",
    "add_edge(graph, 0, 1)\n",
    "add_edge(graph, 1, 2)\n",
    "add_edge(graph, 2, 3)\n",
    "add_edge(graph, 3, 4)\n",
    "add_edge(graph, 4, 1)  \n",
    "\n",
    "if has_cycle(graph, num_vertices):\n",
    "    print(\"Graph contains a cycle\")\n",
    "else:\n",
    "    print(\"Graph does not contain a cycle\")"
   ]
  },
  {
   "cell_type": "markdown",
   "id": "0abc645f-8031-4c30-a5b3-1bc3c4cd7f9f",
   "metadata": {},
   "source": [
    "### 5. Check if a graph is bipartite using DFS."
   ]
  },
  {
   "cell_type": "code",
   "execution_count": 13,
   "id": "f0158fae-7259-4b65-ab83-ddb010d4d827",
   "metadata": {},
   "outputs": [
    {
     "name": "stdout",
     "output_type": "stream",
     "text": [
      "Graph is bipartite\n"
     ]
    }
   ],
   "source": [
    "from collections import deque\n",
    "def is_bipartite(graph, V):\n",
    "    color = [-1] * V                   # initially, color = [-1, -1, -1, -1]\n",
    "\n",
    "    for i in range(V):\n",
    "        if color[i] == -1:\n",
    "            queue = deque([i])\n",
    "            color[i] = 0               # Start coloring with 0\n",
    "\n",
    "            while queue:\n",
    "                v = queue.popleft()\n",
    "\n",
    "                for neighbor in graph[v]:\n",
    "                    if color[neighbor] == -1:\n",
    "                        color[neighbor] = 1 - color[v]       # Color with opposite color to current node\n",
    "                        queue.append(neighbor)\n",
    "                    elif color[neighbor] == color[v]:        # If a neighbor has the same color, it's not bipartite\n",
    "                        return False\n",
    "    return True\n",
    "\n",
    "V = 4\n",
    "graph = [[] for _ in range(V)]\n",
    "graph[0].extend([1, 3])\n",
    "graph[1].extend([0, 2])\n",
    "graph[2].extend([1, 3])\n",
    "graph[3].extend([0, 2])\n",
    "\n",
    "if is_bipartite(graph, V):\n",
    "    print(\"Graph is bipartite\")\n",
    "else:\n",
    "    print(\"Graph is not bipartite\")"
   ]
  },
  {
   "cell_type": "code",
   "execution_count": null,
   "id": "51614c95-d53e-45d8-9d7c-d99646d59b11",
   "metadata": {},
   "outputs": [],
   "source": []
  },
  {
   "cell_type": "markdown",
   "id": "d4ed9a46-eea5-4d6d-b312-a9e0b196cbd0",
   "metadata": {},
   "source": [
    "### 1. Prim's spanning tree algorithm"
   ]
  },
  {
   "cell_type": "code",
   "execution_count": 14,
   "id": "c9b4c17e-2f8e-42db-a21e-416fa51fe18b",
   "metadata": {},
   "outputs": [
    {
     "name": "stdout",
     "output_type": "stream",
     "text": [
      "MST Weight: 10\n",
      "MST Edges: [(0, 1, 2), (1, 2, 3), (2, 3, 5)]\n"
     ]
    }
   ],
   "source": [
    "import heapq\n",
    "\n",
    "def prim_mst(graph):\n",
    "    # Start with an arbitrary vertex (e.g., vertex 0)\n",
    "    start_vertex = list(graph.keys())[0]\n",
    "\n",
    "    # Priority queue to select the smallest edge\n",
    "    pq = []\n",
    "    for neighbor, weight in graph[start_vertex]:\n",
    "        heapq.heappush(pq, (weight, start_vertex, neighbor))\n",
    "\n",
    "    visited = set()  # To track visited vertices\n",
    "    mst_weight = 0  # Total weight of MST\n",
    "    mst_edges = []  # List of edges in the MST\n",
    "\n",
    "    visited.add(start_vertex)\n",
    "\n",
    "    while pq:\n",
    "        weight, u, v = heapq.heappop(pq)  # Get the smallest edge\n",
    "\n",
    "        if v in visited:\n",
    "            continue  # Skip if the vertex is already in MST\n",
    "        # Add this edge to the MST\n",
    "        mst_weight += weight\n",
    "        mst_edges.append((u, v, weight))\n",
    "        visited.add(v)\n",
    "        # Push all edges of the new vertex into the priority queue\n",
    "        for neighbor, edge_weight in graph[v]:\n",
    "            if neighbor not in visited:\n",
    "                heapq.heappush(pq, (edge_weight, v, neighbor))\n",
    "    return mst_weight, mst_edges\n",
    "graph = {\n",
    "    0: [(1, 2), (3, 6)],\n",
    "    1: [(0, 2), (3, 8), (2, 3)],\n",
    "    2: [(1, 3), (3, 5)],\n",
    "    3: [(0, 6), (1, 8), (2, 5)],\n",
    "}\n",
    "mst_weight, mst_edges = prim_mst(graph)\n",
    "print(\"MST Weight:\", mst_weight)  \n",
    "print(\"MST Edges:\", mst_edges)    "
   ]
  },
  {
   "cell_type": "markdown",
   "id": "d229b19e-8405-4357-84a0-2ec6eafe0826",
   "metadata": {},
   "source": [
    "### 2. Kruskal spanning tree algorithm"
   ]
  },
  {
   "cell_type": "code",
   "execution_count": 15,
   "id": "37947836-37f7-4b56-bb02-0544f3186d1d",
   "metadata": {},
   "outputs": [
    {
     "name": "stdout",
     "output_type": "stream",
     "text": [
      "MST Weight: 10\n",
      "MST Edges: [(0, 1, 2), (1, 2, 3), (2, 3, 5)]\n"
     ]
    }
   ],
   "source": [
    "class UnionFind:\n",
    "    def __init__(self, size):\n",
    "        self.parent = list(range(size))\n",
    "        self.rank = [0] * size\n",
    "    def find(self, node):\n",
    "        if self.parent[node] != node:\n",
    "            self.parent[node] = self.find(self.parent[node])  # Path compression\n",
    "        return self.parent[node]\n",
    "    def union(self, node1, node2):\n",
    "        root1 = self.find(node1)\n",
    "        root2 = self.find(node2)\n",
    "        if root1 != root2:\n",
    "            if self.rank[root1] > self.rank[root2]:\n",
    "                self.parent[root2] = root1\n",
    "            elif self.rank[root1] < self.rank[root2]:\n",
    "                self.parent[root1] = root2\n",
    "            else:\n",
    "                self.parent[root2] = root1\n",
    "                self.rank[root1] += 1\n",
    "            return True\n",
    "        return False\n",
    "\n",
    "def kruskal_mst(vertices, edges):\n",
    "    # Sort edges by weight\n",
    "    edges.sort()\n",
    "    # Initialize Union-Find structure\n",
    "    uf = UnionFind(vertices)\n",
    "    mst_weight = 0\n",
    "    mst_edges = []\n",
    "    for weight, u, v in edges:\n",
    "        # Add the edge if it doesn't create a cycle\n",
    "        if uf.union(u, v):\n",
    "            mst_edges.append((u, v, weight))\n",
    "            mst_weight += weight\n",
    "            if len(mst_edges) == vertices - 1: \n",
    "                break\n",
    "\n",
    "    return mst_weight, mst_edges\n",
    "vertices = 4\n",
    "edges = [(2, 0, 1), (3, 1, 2), (5, 2, 3), (6, 0, 3), (8, 1, 3)]\n",
    "mst_weight, mst_edges = kruskal_mst(vertices, edges)\n",
    "print(\"MST Weight:\", mst_weight) \n",
    "print(\"MST Edges:\", mst_edges)    "
   ]
  },
  {
   "cell_type": "markdown",
   "id": "6903c482-eb71-4910-8e34-449e20677ac5",
   "metadata": {},
   "source": [
    "### 3. BST Searching, Insertion and Deletion"
   ]
  },
  {
   "cell_type": "code",
   "execution_count": 16,
   "id": "035bd7cb-e16b-4641-b41a-4d57d83d8a53",
   "metadata": {},
   "outputs": [
    {
     "name": "stdout",
     "output_type": "stream",
     "text": [
      "Search Result: 40\n",
      "In-order Traversal:\n",
      "20 30 40 50 60 70 80 \n",
      "In-order Traversal after Deletion:\n",
      "20 30 40 60 70 80 "
     ]
    }
   ],
   "source": [
    "class TreeNode:\n",
    "    def __init__(self, val=0, left=None, right=None):\n",
    "        self.val = val\n",
    "        self.left = left\n",
    "        self.right = right\n",
    "class BST:\n",
    "    def search(self, root, key):\n",
    "        if root is None or root.val == key:\n",
    "            return root\n",
    "        if key < root.val:\n",
    "            return self.search(root.left, key)\n",
    "        return self.search(root.right, key)\n",
    "\n",
    "    def insert(self, root, key):\n",
    "        if root is None:\n",
    "            return TreeNode(key)\n",
    "        if key < root.val:\n",
    "            root.left = self.insert(root.left, key)\n",
    "        elif key > root.val:\n",
    "            root.right = self.insert(root.right, key)\n",
    "        return root\n",
    "\n",
    "    def delete(self, root, key):\n",
    "        if root is None:\n",
    "            return root\n",
    "\n",
    "        # Search for the node to delete\n",
    "        if key < root.val:\n",
    "            root.left = self.delete(root.left, key)\n",
    "        elif key > root.val:\n",
    "            root.right = self.delete(root.right, key)\n",
    "        else:\n",
    "            # Node with only one child or no child\n",
    "            if root.left is None:\n",
    "                return root.right\n",
    "            elif root.right is None:\n",
    "                return root.left\n",
    "\n",
    "            # Node with two children: Get the in-order successor\n",
    "            successor = self.get_min(root.right)\n",
    "            root.val = successor.val\n",
    "            root.right = self.delete(root.right, successor.val)\n",
    "\n",
    "        return root\n",
    "\n",
    "    def get_min(self, root):\n",
    "        while root.left:\n",
    "            root = root.left\n",
    "        return root\n",
    "    def inorder(self, root):\n",
    "        if root:\n",
    "            self.inorder(root.left)\n",
    "            print(root.val, end=\" \")\n",
    "            self.inorder(root.right)\n",
    "\n",
    "bst = BST()\n",
    "root = None\n",
    "\n",
    "root = bst.insert(root, 50)\n",
    "root = bst.insert(root, 30)\n",
    "root = bst.insert(root, 20)\n",
    "root = bst.insert(root, 40)\n",
    "root = bst.insert(root, 70)\n",
    "root = bst.insert(root, 60)\n",
    "root = bst.insert(root, 80)\n",
    "\n",
    "# Search for an element\n",
    "result = bst.search(root, 40)\n",
    "print(\"Search Result:\", result.val if result else \"Not Found\")  \n",
    "\n",
    "# In-order Traversal\n",
    "print(\"In-order Traversal:\")\n",
    "bst.inorder(root)  \n",
    "\n",
    "# Delete an element\n",
    "root = bst.delete(root, 50)\n",
    "\n",
    "# In-order Traversal after Deletion\n",
    "print(\"\\nIn-order Traversal after Deletion:\")\n",
    "bst.inorder(root)  "
   ]
  },
  {
   "cell_type": "markdown",
   "id": "d0c80f00-915b-4ffd-a424-b92543d18c77",
   "metadata": {},
   "source": [
    "### 4. AVL Tree Insertion and Deletion"
   ]
  },
  {
   "cell_type": "code",
   "execution_count": 17,
   "id": "0d498cec-c039-4dca-816e-6791c7e11891",
   "metadata": {},
   "outputs": [
    {
     "name": "stdout",
     "output_type": "stream",
     "text": [
      "In-order traversal after insertions:\n",
      "5 10 15 20 25 30 35 \n",
      "In-order traversal after deletion:\n",
      "5 15 20 25 30 35 "
     ]
    }
   ],
   "source": [
    "class TreeNode:\n",
    "    def __init__(self, val=0, left=None, right=None):\n",
    "        self.val = val\n",
    "        self.left = left\n",
    "        self.right = right\n",
    "        self.height = 1  # Height of the node\n",
    "\n",
    "class AVLTree:\n",
    "    def get_height(self, node):\n",
    "        if not node:\n",
    "            return 0\n",
    "        return node.height\n",
    "\n",
    "    def update_height(self, node):\n",
    "        node.height = 1 + max(self.get_height(node.left), self.get_height(node.right))\n",
    "\n",
    "    def get_balance_factor(self, node):\n",
    "        if not node:\n",
    "            return 0\n",
    "        return self.get_height(node.left) - self.get_height(node.right)\n",
    "\n",
    "    def left_rotate(self, z):\n",
    "        y = z.right\n",
    "        T2 = y.left\n",
    "        # Perform rotation\n",
    "        y.left = z\n",
    "        z.right = T2\n",
    "        # Update heights\n",
    "        self.update_height(z)\n",
    "        self.update_height(y)\n",
    "        return y\n",
    "\n",
    "    def right_rotate(self, y):\n",
    "        x = y.left\n",
    "        T2 = x.right\n",
    "        # Perform rotation\n",
    "        x.right = y\n",
    "        y.left = T2\n",
    "        # Update heights\n",
    "        self.update_height(y)\n",
    "        self.update_height(x)\n",
    "        return x\n",
    "\n",
    "    def left_right_rotate(self, node):\n",
    "        node.left = self.left_rotate(node.left)\n",
    "        return self.right_rotate(node)\n",
    "\n",
    "    def right_left_rotate(self, node):\n",
    "        node.right = self.right_rotate(node.right)\n",
    "        return self.left_rotate(node)\n",
    "\n",
    "    def insert(self, root, key):\n",
    "        # Perform normal BST insert\n",
    "        if not root:\n",
    "            return TreeNode(key)\n",
    "        if key < root.val:\n",
    "            root.left = self.insert(root.left, key)\n",
    "        else:\n",
    "            root.right = self.insert(root.right, key)\n",
    "\n",
    "        # Update the height of the ancestor node\n",
    "        self.update_height(root)\n",
    "\n",
    "        # Get the balance factor of the node\n",
    "        balance = self.get_balance_factor(root)\n",
    "\n",
    "        # If the node becomes unbalanced, perform rotations\n",
    "        # Left-Left case\n",
    "        if balance > 1 and key < root.left.val:\n",
    "            return self.right_rotate(root)\n",
    "\n",
    "        # Right-Right case\n",
    "        if balance < -1 and key > root.right.val:\n",
    "            return self.left_rotate(root)\n",
    "\n",
    "        # Left-Right case\n",
    "        if balance > 1 and key > root.left.val:\n",
    "            return self.left_right_rotate(root)\n",
    "\n",
    "        # Right-Left case\n",
    "        if balance < -1 and key < root.right.val:\n",
    "            return self.right_left_rotate(root)\n",
    "\n",
    "        return root\n",
    "\n",
    "    def delete(self, root, key):\n",
    "        # Perform normal BST delete\n",
    "        if not root:\n",
    "            return root\n",
    "\n",
    "        if key < root.val:\n",
    "            root.left = self.delete(root.left, key)\n",
    "        elif key > root.val:\n",
    "            root.right = self.delete(root.right, key)\n",
    "        else:\n",
    "            # Node to be deleted is found\n",
    "            if not root.left:\n",
    "                return root.right\n",
    "            elif not root.right:\n",
    "                return root.left\n",
    "\n",
    "            # Node has two children, get the in-order successor\n",
    "            temp = self.get_min_value_node(root.right)\n",
    "            root.val = temp.val\n",
    "            root.right = self.delete(root.right, temp.val)\n",
    "\n",
    "        # Update the height of the current node\n",
    "        self.update_height(root)\n",
    "\n",
    "        # Get the balance factor of the node\n",
    "        balance = self.get_balance_factor(root)\n",
    "\n",
    "        # If the node becomes unbalanced, perform rotations\n",
    "        # Left-Left case\n",
    "        if balance > 1 and self.get_balance_factor(root.left) >= 0:\n",
    "            return self.right_rotate(root)\n",
    "\n",
    "        # Right-Right case\n",
    "        if balance < -1 and self.get_balance_factor(root.right) <= 0:\n",
    "            return self.left_rotate(root)\n",
    "\n",
    "        # Left-Right case\n",
    "        if balance > 1 and self.get_balance_factor(root.left) < 0:\n",
    "            return self.left_right_rotate(root)\n",
    "\n",
    "        # Right-Left case\n",
    "        if balance < -1 and self.get_balance_factor(root.right) > 0:\n",
    "            return self.right_left_rotate(root)\n",
    "\n",
    "        return root\n",
    "\n",
    "    def get_min_value_node(self, node):\n",
    "        if node is None or node.left is None:\n",
    "            return node\n",
    "        return self.get_min_value_node(node.left)\n",
    "\n",
    "    def inorder(self, root):\n",
    "        if root:\n",
    "            self.inorder(root.left)\n",
    "            print(root.val, end=\" \")\n",
    "            self.inorder(root.right)\n",
    "\n",
    "avl = AVLTree()\n",
    "root = None\n",
    "# Insert nodes into AVL tree\n",
    "values_to_insert = [20, 10, 30, 5, 15, 25, 35]\n",
    "for value in values_to_insert:\n",
    "    root = avl.insert(root, value)\n",
    "print(\"In-order traversal after insertions:\")\n",
    "avl.inorder(root)  \n",
    "# Delete a node\n",
    "root = avl.delete(root, 10)\n",
    "print(\"\\nIn-order traversal after deletion:\")\n",
    "avl.inorder(root)  "
   ]
  },
  {
   "cell_type": "code",
   "execution_count": null,
   "id": "c5f360d9-ebd3-4e68-9266-136b83e0fd64",
   "metadata": {},
   "outputs": [],
   "source": []
  },
  {
   "cell_type": "code",
   "execution_count": null,
   "id": "e3039a3e-c8ae-4d3e-86e8-4cb307c80432",
   "metadata": {},
   "outputs": [],
   "source": []
  },
  {
   "cell_type": "code",
   "execution_count": null,
   "id": "78fdccec-f777-4ae6-97d8-d37c6234fdbe",
   "metadata": {},
   "outputs": [],
   "source": []
  },
  {
   "cell_type": "code",
   "execution_count": null,
   "id": "bb471481-d173-46cd-831f-df488e67e50d",
   "metadata": {},
   "outputs": [],
   "source": []
  }
 ],
 "metadata": {
  "kernelspec": {
   "display_name": "Python 3 (ipykernel)",
   "language": "python",
   "name": "python3"
  },
  "language_info": {
   "codemirror_mode": {
    "name": "ipython",
    "version": 3
   },
   "file_extension": ".py",
   "mimetype": "text/x-python",
   "name": "python",
   "nbconvert_exporter": "python",
   "pygments_lexer": "ipython3",
   "version": "3.12.5"
  }
 },
 "nbformat": 4,
 "nbformat_minor": 5
}

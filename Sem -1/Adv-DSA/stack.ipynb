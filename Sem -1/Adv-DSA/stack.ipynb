{
 "cells": [
  {
   "cell_type": "markdown",
   "id": "7fddc90a-0629-4158-923e-8a11c778c209",
   "metadata": {},
   "source": [
    "### 1. stack implementation using array/list"
   ]
  },
  {
   "cell_type": "code",
   "execution_count": 10,
   "id": "dd46e8c2-fba8-4a4c-b3a3-7ebccd6c67f6",
   "metadata": {},
   "outputs": [
    {
     "name": "stdin",
     "output_type": "stream",
     "text": [
      "Enter the capacity of the stack:  2\n"
     ]
    },
    {
     "name": "stdout",
     "output_type": "stream",
     "text": [
      "\n",
      "Choose an operation:\n",
      "1. Push\n",
      "2. pop\n",
      "3. peek\n",
      "4. empty\n",
      "5. size\n",
      "6. exit\n"
     ]
    },
    {
     "name": "stdin",
     "output_type": "stream",
     "text": [
      "Enter your choice (1-6):  1\n"
     ]
    },
    {
     "name": "stdout",
     "output_type": "stream",
     "text": [
      "Enter up to 2 items:\n"
     ]
    },
    {
     "name": "stdin",
     "output_type": "stream",
     "text": [
      "Enter item 1/2:  1\n"
     ]
    },
    {
     "name": "stdout",
     "output_type": "stream",
     "text": [
      "Pushed 1\n"
     ]
    },
    {
     "name": "stdin",
     "output_type": "stream",
     "text": [
      "Enter item 2/2:  6\n"
     ]
    },
    {
     "name": "stdout",
     "output_type": "stream",
     "text": [
      "Pushed 6\n",
      "Stack is now full.\n",
      "\n",
      "Choose an operation:\n",
      "1. Push\n",
      "2. pop\n",
      "3. peek\n",
      "4. empty\n",
      "5. size\n",
      "6. exit\n"
     ]
    },
    {
     "name": "stdin",
     "output_type": "stream",
     "text": [
      "Enter your choice (1-6):  3\n"
     ]
    },
    {
     "name": "stdout",
     "output_type": "stream",
     "text": [
      "Top element is: 6\n",
      "\n",
      "Choose an operation:\n",
      "1. Push\n",
      "2. pop\n",
      "3. peek\n",
      "4. empty\n",
      "5. size\n",
      "6. exit\n"
     ]
    },
    {
     "name": "stdin",
     "output_type": "stream",
     "text": [
      "Enter your choice (1-6):  6\n"
     ]
    },
    {
     "name": "stdout",
     "output_type": "stream",
     "text": [
      "Exiting...\n"
     ]
    }
   ],
   "source": [
    "class Stack:\n",
    "    def __init__(self, capacity):\n",
    "        self.capacity = capacity\n",
    "        self.stack = []\n",
    "    \n",
    "    def push(self, item):\n",
    "        if len(self.stack) < self.capacity:\n",
    "            self.stack.append(item)\n",
    "            print(f\"Pushed {item}\")\n",
    "        else:\n",
    "            print(\"Stack Overflow!\")\n",
    "    def pop(self):\n",
    "        if not self.is_empty():\n",
    "            item = self.stack.pop()\n",
    "            print(f\"Popped {item}\")\n",
    "            return item\n",
    "        else:\n",
    "            print(\"Stack Underflow!\")\n",
    "    \n",
    "    def peek(self):\n",
    "        if not self.is_empty():\n",
    "            return self.stack[-1]\n",
    "        print(\"Stack is empty\")\n",
    "        return None\n",
    "    \n",
    "    def is_empty(self):\n",
    "        return len(self.stack) == 0\n",
    "    \n",
    "    def size(self):\n",
    "        return len(self.stack)\n",
    "\n",
    "\n",
    "# Taking input from the user\n",
    "def main():\n",
    "    capacity = int(input(\"Enter the capacity of the stack: \"))\n",
    "    stack = Stack(capacity)\n",
    "\n",
    "    while True:\n",
    "        print(\"\\nChoose an operation:\")\n",
    "        print(\"1. Push\\n2. pop\\n3. peek\\n4. empty\\n5. size\\n6. exit\")\n",
    "        choice = input(\"Enter your choice (1-6): \")\n",
    "\n",
    "        if choice == \"1\":\n",
    "            remaining_capacity = capacity - stack.size()\n",
    "            print(f\"Enter up to {remaining_capacity} items:\")\n",
    "            for _ in range(remaining_capacity):\n",
    "                item = input(f\"Enter item {_ + 1}/{remaining_capacity}: \")\n",
    "                stack.push(item)\n",
    "                if stack.size() == capacity:\n",
    "                    print(\"Stack is now full.\")\n",
    "                    break\n",
    "        elif choice == \"2\":\n",
    "            stack.pop()\n",
    "        elif choice == \"3\":\n",
    "            top_item = stack.peek()\n",
    "            if top_item is not None:\n",
    "                print(f\"Top element is: {top_item}\")\n",
    "        elif choice == \"4\":\n",
    "            if stack.is_empty():\n",
    "                print(\"Stack is empty.\")\n",
    "            else:\n",
    "                print(\"Stack is not empty.\")\n",
    "        elif choice == \"5\":\n",
    "            print(f\"Stack size is: {stack.size()}\")\n",
    "        elif choice == \"6\":\n",
    "            print(\"Exiting...\")\n",
    "            break\n",
    "        else:\n",
    "            print(\"Invalid choice! Please enter a number between 1 and 6.\")\n",
    "\n",
    "if __name__ == \"__main__\":\n",
    "    main()"
   ]
  },
  {
   "cell_type": "markdown",
   "id": "8861810d-b876-4be7-9971-1e54aef568a7",
   "metadata": {},
   "source": [
    "### 1. stack implementation using linked list"
   ]
  },
  {
   "cell_type": "code",
   "execution_count": 1,
   "id": "139f921b-7379-4929-95db-c1118624b76b",
   "metadata": {},
   "outputs": [
    {
     "name": "stdout",
     "output_type": "stream",
     "text": [
      "\n",
      "Choose an operation:\n",
      "1. Push\n",
      "2. Pop\n",
      "3. Display\n",
      "4. Exit\n"
     ]
    },
    {
     "name": "stdin",
     "output_type": "stream",
     "text": [
      "Enter an operation:  1\n"
     ]
    },
    {
     "name": "stdout",
     "output_type": "stream",
     "text": [
      "Push operation\n"
     ]
    },
    {
     "name": "stdin",
     "output_type": "stream",
     "text": [
      "Enter a number to push:  23\n"
     ]
    },
    {
     "name": "stdout",
     "output_type": "stream",
     "text": [
      "Pushed 23 onto the stack\n",
      "\n",
      "Choose an operation:\n",
      "1. Push\n",
      "2. Pop\n",
      "3. Display\n",
      "4. Exit\n"
     ]
    },
    {
     "name": "stdin",
     "output_type": "stream",
     "text": [
      "Enter an operation:  1\n"
     ]
    },
    {
     "name": "stdout",
     "output_type": "stream",
     "text": [
      "Push operation\n"
     ]
    },
    {
     "name": "stdin",
     "output_type": "stream",
     "text": [
      "Enter a number to push:  43\n"
     ]
    },
    {
     "name": "stdout",
     "output_type": "stream",
     "text": [
      "Pushed 43 onto the stack\n",
      "\n",
      "Choose an operation:\n",
      "1. Push\n",
      "2. Pop\n",
      "3. Display\n",
      "4. Exit\n"
     ]
    },
    {
     "name": "stdin",
     "output_type": "stream",
     "text": [
      "Enter an operation:  1\n"
     ]
    },
    {
     "name": "stdout",
     "output_type": "stream",
     "text": [
      "Push operation\n"
     ]
    },
    {
     "name": "stdin",
     "output_type": "stream",
     "text": [
      "Enter a number to push:  12\n"
     ]
    },
    {
     "name": "stdout",
     "output_type": "stream",
     "text": [
      "Pushed 12 onto the stack\n",
      "\n",
      "Choose an operation:\n",
      "1. Push\n",
      "2. Pop\n",
      "3. Display\n",
      "4. Exit\n"
     ]
    },
    {
     "name": "stdin",
     "output_type": "stream",
     "text": [
      "Enter an operation:  2\n"
     ]
    },
    {
     "name": "stdout",
     "output_type": "stream",
     "text": [
      "Pop operation\n",
      "Popped element: 12\n",
      "\n",
      "Choose an operation:\n",
      "1. Push\n",
      "2. Pop\n",
      "3. Display\n",
      "4. Exit\n"
     ]
    },
    {
     "name": "stdin",
     "output_type": "stream",
     "text": [
      "Enter an operation:  3\n"
     ]
    },
    {
     "name": "stdout",
     "output_type": "stream",
     "text": [
      "Display operation\n",
      "Elements of the stack:\n",
      "43 23 \n",
      "Top of the stack: 43\n",
      "\n",
      "Choose an operation:\n",
      "1. Push\n",
      "2. Pop\n",
      "3. Display\n",
      "4. Exit\n"
     ]
    },
    {
     "name": "stdin",
     "output_type": "stream",
     "text": [
      "Enter an operation:  4\n"
     ]
    },
    {
     "name": "stdout",
     "output_type": "stream",
     "text": [
      "Exiting...\n"
     ]
    }
   ],
   "source": [
    "class Node:\n",
    "    def __init__(self, x):\n",
    "        self.x = x\n",
    "        self.next = None\n",
    "\n",
    "class Stack:\n",
    "    def __init__(self):\n",
    "        self.top = None\n",
    "\n",
    "    def push(self):\n",
    "        x = int(input(\"Enter a number to push: \"))\n",
    "        new_node = Node(x)\n",
    "        new_node.next = self.top\n",
    "        self.top = new_node\n",
    "        print(f\"Pushed {x} onto the stack\")\n",
    "\n",
    "    def pop(self):\n",
    "        if self.top is None:\n",
    "            print(\"Stack is empty\")\n",
    "        else:\n",
    "            temp = self.top\n",
    "            print(f\"Popped element: {self.top.x}\")\n",
    "            self.top = self.top.next\n",
    "            temp = None\n",
    "            \n",
    "    def display(self):\n",
    "        if self.top is None:\n",
    "            print(\"Stack is empty\")\n",
    "        else:\n",
    "            print(\"Elements of the stack:\")\n",
    "            temp = self.top\n",
    "            while temp:\n",
    "                print(temp.x, end=\" \")\n",
    "                temp = temp.next\n",
    "            print(\"\\nTop of the stack:\", self.top.x)\n",
    "# Creating a stack object and interacting with it\n",
    "s = Stack()\n",
    "while True:\n",
    "    print(\"\\nChoose an operation:\")\n",
    "    print(\"1. Push\\n2. Pop\\n3. Display\\n4. Exit\")\n",
    "    choice = input(\"Enter an operation: \")\n",
    "\n",
    "    if choice == '1':\n",
    "        print(\"Push operation\")\n",
    "        s.push()\n",
    "    elif choice == '2':\n",
    "        print(\"Pop operation\")\n",
    "        s.pop()\n",
    "    elif choice == '3':\n",
    "        print(\"Display operation\")\n",
    "        s.display()\n",
    "    elif choice == '4':\n",
    "        print(\"Exiting...\")\n",
    "        break\n",
    "    else:\n",
    "        print(\"Invalid choice! Please enter a number between 1 and 5.\")"
   ]
  },
  {
   "cell_type": "markdown",
   "id": "522d2076-2cbb-43ec-b54b-b1ebcc10b061",
   "metadata": {},
   "source": [
    "### 2. postfix expression evaluation and max size of stack during evaluation"
   ]
  },
  {
   "cell_type": "code",
   "execution_count": 2,
   "id": "50f86945-190c-490e-9c3b-81b9b88285b1",
   "metadata": {},
   "outputs": [
    {
     "name": "stdout",
     "output_type": "stream",
     "text": [
      "Result of the postfix expression evaluation: -4\n",
      "Maximum size of the stack during evaluation: 3\n"
     ]
    }
   ],
   "source": [
    "class Stack:\n",
    "    def __init__(self):\n",
    "        self.items = []\n",
    "\n",
    "    def push(self, value):\n",
    "        self.items.append(value)\n",
    "\n",
    "    def pop(self):\n",
    "        if not self.is_empty():\n",
    "            return self.items.pop()\n",
    "        raise IndexError(\"pop from empty stack\")\n",
    "\n",
    "    def is_empty(self):\n",
    "        return len(self.items) == 0\n",
    "\n",
    "    def get_size(self):\n",
    "        return len(self.items)\n",
    "\n",
    "def evaluate_postfix(expression):\n",
    "    stack = Stack()\n",
    "    operators = {'+', '-', '*', '/'}\n",
    "    max_size = 0\n",
    "\n",
    "    i = 0\n",
    "    while i < len(expression):\n",
    "        char = expression[i]\n",
    "\n",
    "        if char == ' ':\n",
    "            i += 1\n",
    "            continue\n",
    "        if char.isdigit():\n",
    "            stack.push(int(char))\n",
    "\n",
    "        elif char in operators:  \n",
    "            operand2 = stack.pop()\n",
    "            operand1 = stack.pop()\n",
    "            result = None\n",
    "\n",
    "            if char == '+':\n",
    "                result = operand1 + operand2\n",
    "            elif char == '-':\n",
    "                result = operand1 - operand2\n",
    "            elif char == '*':\n",
    "                result = operand1 * operand2\n",
    "            elif char == '/':\n",
    "                result = operand1 / operand2\n",
    "\n",
    "            stack.push(result)  \n",
    "\n",
    "         # Update the max_size if current stack size is greater\n",
    "        if stack.get_size() > max_size:\n",
    "            max_size = stack.get_size()\n",
    "\n",
    "        i += 1\n",
    "    \n",
    "    result = stack.pop()\n",
    "    return result, max_size\n",
    "\n",
    "expression = \"23 1 *  + 9 -\"  \n",
    "result, max_size = evaluate_postfix(expression)\n",
    "print(\"Result of the postfix expression evaluation:\", result)\n",
    "print(\"Maximum size of the stack during evaluation:\", max_size)"
   ]
  },
  {
   "cell_type": "markdown",
   "id": "f83d85e6-d2a5-449b-8718-af8210542e9e",
   "metadata": {},
   "source": [
    "### 4. prefix expression evaluation and max size of stack during evaluation "
   ]
  },
  {
   "cell_type": "code",
   "execution_count": 1,
   "id": "4e6ca645-c96f-4cb4-9294-fc7db9650fcd",
   "metadata": {},
   "outputs": [
    {
     "name": "stdout",
     "output_type": "stream",
     "text": [
      "Result of the prefix expression evaluation: 20\n",
      "Maximum size of the stack during evaluation: 3\n"
     ]
    }
   ],
   "source": [
    "class Stack:\n",
    "    def __init__(self):\n",
    "        self.items = []\n",
    "\n",
    "    def push(self, value):\n",
    "        self.items.append(value)\n",
    "\n",
    "    def pop(self):\n",
    "        if not self.is_empty():\n",
    "            return self.items.pop()\n",
    "        raise IndexError(\"pop from empty stack\")\n",
    "\n",
    "    def is_empty(self):\n",
    "        return len(self.items) == 0\n",
    "\n",
    "    def get_size(self):\n",
    "        return len(self.items)\n",
    "\n",
    "def evaluate_prefix(expression):\n",
    "    stack = Stack()\n",
    "    operators = {'+', '-', '*', '/'}\n",
    "    max_size = 0\n",
    "    \n",
    "    # Traverse the expression from right to left\n",
    "    i = len(expression) - 1\n",
    "    while i >= 0:\n",
    "        char = expression[i]\n",
    "\n",
    "        # Skip spaces in the expression if present\n",
    "        if char == ' ':\n",
    "            i -= 1\n",
    "            continue\n",
    "\n",
    "        # If the character is a digit, parse the full number (handles multi-digit numbers)\n",
    "        if char.isdigit():\n",
    "            stack.push(int(char))\n",
    "\n",
    "        elif char in operators:  # If the character is an operator\n",
    "            operand2 = stack.pop()\n",
    "            operand1 = stack.pop()\n",
    "            result = None\n",
    "\n",
    "            if char == '+':\n",
    "                result = operand1 + operand2\n",
    "            elif char == '-':\n",
    "                result = operand1 - operand2\n",
    "            elif char == '*':\n",
    "                result = operand1 * operand2\n",
    "            elif char == '/':\n",
    "                result = operand1 / operand2\n",
    "\n",
    "            stack.push(result)  # Push the result back onto the stack\n",
    "\n",
    "         # Update the max_size if current stack size is greater\n",
    "        if stack.get_size() > max_size:\n",
    "            max_size = stack.get_size()\n",
    "\n",
    "        i -= 1\n",
    "    # The final result will be the only element left in the stack\n",
    "    result = stack.pop()\n",
    "    return result, max_size\n",
    "\n",
    "expression = \"* + 2 3 4\" \n",
    "result, max_size = evaluate_prefix(expression)\n",
    "print(\"Result of the prefix expression evaluation:\", result)\n",
    "print(\"Maximum size of the stack during evaluation:\", max_size)\n"
   ]
  },
  {
   "cell_type": "markdown",
   "id": "7e1b424f-7a65-4d14-9064-42b9589d811e",
   "metadata": {},
   "source": [
    "### 5. Infix expression evaluation\n",
    "Evaluating infix expressions requires additional processing to handle the order of operations and parentheses. \n",
    "First convert the infix expression to postfix notation. This can be done using a stack or a recursive algorithm. \n",
    "Then evaluate the postfix expression."
   ]
  },
  {
   "cell_type": "code",
   "execution_count": 6,
   "id": "3bee6b63-07ee-4a49-8e57-a6dc36b1f3c2",
   "metadata": {},
   "outputs": [
    {
     "name": "stdout",
     "output_type": "stream",
     "text": [
      "Postfix Expression: ['3', '4', '2', '*', '1', '5', '-', '2', '^', '3', '^', '/', '+']\n",
      "Evaluation Result: 3\n"
     ]
    }
   ],
   "source": [
    "def precedence(op):\n",
    "    if op == '+' or op == '-':\n",
    "        return 1\n",
    "    if op == '*' or op == '/':\n",
    "        return 2\n",
    "    if op == '^':\n",
    "        return 3\n",
    "    return 0\n",
    "\n",
    "def infix_to_postfix(expression):\n",
    "    output = []\n",
    "    operator_stack = []\n",
    "    \n",
    "    for token in expression.split():\n",
    "        if token.isdigit():\n",
    "            output.append(token)\n",
    "        elif token == '(':\n",
    "            operator_stack.append(token)\n",
    "        elif token == ')':\n",
    "            while operator_stack and operator_stack[-1] != '(':\n",
    "                output.append(operator_stack.pop())\n",
    "            operator_stack.pop()  # Pop '('\n",
    "        else:\n",
    "            while (operator_stack and precedence(operator_stack[-1]) >= precedence(token)):\n",
    "                output.append(operator_stack.pop())\n",
    "            operator_stack.append(token)\n",
    "    \n",
    "    while operator_stack:\n",
    "        output.append(operator_stack.pop())\n",
    "        \n",
    "    return output\n",
    "\n",
    "def evaluate_postfix(postfix):\n",
    "    operand_stack = []\n",
    "    \n",
    "    for token in postfix:\n",
    "        if token.isdigit():\n",
    "            operand_stack.append(int(token))\n",
    "        else:\n",
    "            b = operand_stack.pop()\n",
    "            a = operand_stack.pop()\n",
    "            if token == '+':\n",
    "                operand_stack.append(a + b)\n",
    "            elif token == '-':\n",
    "                operand_stack.append(a - b)\n",
    "            elif token == '*':\n",
    "                operand_stack.append(a * b)\n",
    "            elif token == '/':\n",
    "                operand_stack.append(a // b)\n",
    "            elif token == '^':\n",
    "                operand_stack.append(a ** b)\n",
    "    \n",
    "    return operand_stack[0]\n",
    "\n",
    "expression = \"3 + 4 * 2 / ( 1 - 5 ) ^ 2 ^ 3\"\n",
    "postfix_expr = infix_to_postfix(expression)\n",
    "print(\"Postfix Expression:\", postfix_expr)\n",
    "result = evaluate_postfix(postfix_expr)\n",
    "print(\"Evaluation Result:\", result)\n"
   ]
  },
  {
   "cell_type": "markdown",
   "id": "66f8dbc6-9662-436e-8fc1-0a73b0162bff",
   "metadata": {},
   "source": [
    "### 1. Infix to Postfix conversion"
   ]
  },
  {
   "cell_type": "code",
   "execution_count": 3,
   "id": "f3d4adad-2b55-40ab-bc16-4d71935ccee1",
   "metadata": {},
   "outputs": [
    {
     "name": "stdout",
     "output_type": "stream",
     "text": [
      "Infix to Postfix: ABCD^E-*+\n"
     ]
    }
   ],
   "source": [
    "def precedence(op):\n",
    "    if op == '+' or op == '-':\n",
    "        return 1\n",
    "    if op == '*' or op == '/':\n",
    "        return 2\n",
    "    if op == '^':\n",
    "        return 3\n",
    "    return 0\n",
    "\n",
    "def infix_to_postfix(exp):\n",
    "    stack = []\n",
    "    post_result = ''\n",
    "    for char in exp:\n",
    "        if char.isalnum():\n",
    "            post_result += char\n",
    "\n",
    "        elif char == '(':\n",
    "            stack.append(char)\n",
    "\n",
    "        elif char == ')':\n",
    "            while stack and stack[-1] != '(':\n",
    "                post_result += stack.pop()\n",
    "            stack.pop()\n",
    "\n",
    "        else:\n",
    "            while stack and precedence(stack[-1]) >= precedence(char):\n",
    "                post_result += stack.pop()\n",
    "            stack.append(char)\n",
    "    # Pop all remaining operators from the stack\n",
    "    while stack:\n",
    "        post_result += stack.pop()\n",
    "    return post_result\n",
    "\n",
    "exp = \"A+B*(C^D-E)\"\n",
    "print(\"Infix to Postfix:\", infix_to_postfix(exp))"
   ]
  },
  {
   "cell_type": "markdown",
   "id": "fa393b85-d55a-4a4a-a7f1-49f906db3174",
   "metadata": {},
   "source": [
    "### 7. Valid parenthesis "
   ]
  },
  {
   "cell_type": "code",
   "execution_count": 2,
   "id": "e67bbe90-ad5d-4e55-acb6-2b3abdb38be2",
   "metadata": {},
   "outputs": [
    {
     "name": "stdout",
     "output_type": "stream",
     "text": [
      "(A+B) --> Balanced\n",
      "{A*(B+C)} --> Balanced\n",
      "[A+B]*(C-D) --> Balanced\n",
      "((A+B) --> Not Balanced\n",
      "A+B} --> Not Balanced\n",
      "[{(A+B)}] --> Balanced\n"
     ]
    }
   ],
   "source": [
    "def valid_parenthesis(expr):\n",
    "  stack = []\n",
    "\n",
    "  for char in expr:\n",
    "    if char in '({[':\n",
    "      stack.append(char)\n",
    "    elif char in ')}]':\n",
    "       if not stack:\n",
    "         return False\n",
    "       top = stack.pop()\n",
    "       if ((top == '(' and char != ')') or  (top == '{' and char != '}') or (top == '[' and char != ']')):\n",
    "         return False\n",
    "  return len(stack) == 0\n",
    "\n",
    "expressions = [ \"(A+B)\", \"{A*(B+C)}\", \"[A+B]*(C-D)\", \"((A+B)\", \"A+B}\", \"[{(A+B)}]\" ]\n",
    "\n",
    "for exp in expressions:\n",
    "    result = \"Balanced\" if valid_parenthesis(exp) else \"Not Balanced\"\n",
    "    print(f\"{exp} --> {result}\")"
   ]
  },
  {
   "cell_type": "markdown",
   "id": "73e921d0-1133-47b6-b325-c17339ba2741",
   "metadata": {},
   "source": [
    "### 8. Infix to Prefix"
   ]
  },
  {
   "cell_type": "code",
   "execution_count": 3,
   "id": "dfa2db07-46e8-409f-866d-d0590b5c85bc",
   "metadata": {},
   "outputs": [
    {
     "name": "stdout",
     "output_type": "stream",
     "text": [
      "Infix: x+y*z/w+u\n",
      "reversed infix : u+w/z*y+x\n",
      "Postfix: uwz/y*+x+\n",
      "Prefix: +x+*y/zwu\n"
     ]
    }
   ],
   "source": [
    "def precedence(op):\n",
    "    if op == '+' or op == '-':\n",
    "        return 1\n",
    "    if op == '*' or op == '/':\n",
    "        return 2\n",
    "    if op == '^':\n",
    "        return 3\n",
    "    return 0\n",
    "\n",
    "# Infix to postfix\n",
    "def infix_to_postfix(reversed_infix):\n",
    "    stack = []\n",
    "    post_result = \"\"\n",
    "\n",
    "    for char in reversed_infix:\n",
    "        if char.isalpha() or char.isdigit():  # Check if character is an operand\n",
    "            post_result += char\n",
    "        elif char == '(':\n",
    "            stack.append(char)\n",
    "        elif char == ')':\n",
    "            while stack and stack[-1] != '(':\n",
    "                post_result += stack.pop()\n",
    "            stack.pop()  # Pop '('\n",
    "        else:\n",
    "            while stack and precedence(stack[-1]) >= precedence(char):\n",
    "                post_result += stack.pop()\n",
    "            stack.append(char)\n",
    "\n",
    "    while stack:  # Pop all the operators left in the stack\n",
    "        post_result += stack.pop()\n",
    "\n",
    "    return post_result\n",
    "\n",
    "# Infix to prefix\n",
    "def infix_to_prefix(infinix):\n",
    "    # Step 1: Reverse the infix expression and swap parentheses\n",
    "    infinix = infinix[::-1]  # Reverse the entire expression\n",
    "    reversed_infix = \"\"\n",
    "    for char in infinix:\n",
    "        if char == '(':\n",
    "            reversed_infix += ')'\n",
    "        elif char == ')':\n",
    "            reversed_infix += '('\n",
    "        else:\n",
    "            reversed_infix += char\n",
    "\n",
    "    # Step 2: Get the postfix of the reversed expression\n",
    "    postfix = infix_to_postfix(reversed_infix)\n",
    "\n",
    "    # Step 3: Reverse the postfix to get the prefix expression\n",
    "    prefix = postfix[::-1]\n",
    "\n",
    "    return prefix, reversed_infix\n",
    "\n",
    "exp = \"x+y*z/w+u\"\n",
    "print(\"Infix:\", exp)\n",
    "prefix, reversed_infix = infix_to_prefix(exp)\n",
    "print(\"reversed infix :\", reversed_infix)\n",
    "print(\"Postfix:\", infix_to_postfix(reversed_infix))\n",
    "print(\"Prefix:\", prefix)"
   ]
  },
  {
   "cell_type": "markdown",
   "id": "7c25d570-3a06-4927-ab0c-b905f0eaecfc",
   "metadata": {},
   "source": [
    "### 9. Postfix to infix"
   ]
  },
  {
   "cell_type": "code",
   "execution_count": 7,
   "id": "92500a07-4e79-40b4-8c91-3ea7a995f74a",
   "metadata": {},
   "outputs": [
    {
     "name": "stdout",
     "output_type": "stream",
     "text": [
      "Postfix to Infix: (((A+B)*C)-(D^E))\n"
     ]
    }
   ],
   "source": [
    "def postfix_to_infix(post_exp):\n",
    "    stack = []\n",
    "    for char in post_exp:\n",
    "        if char.isalpha() or char.isdigit():    # Check if character is an operand\n",
    "            stack.append(char)\n",
    "        else:                                   # Character is an operator\n",
    "            operand2 = stack.pop()\n",
    "            operand1 = stack.pop()\n",
    "            expression = f\"({operand1}{char}{operand2})\"\n",
    "            stack.append(expression)\n",
    "    return stack[-1]\n",
    "\n",
    "post_exp = \"AB+C*DE^-\"\n",
    "print(\"Postfix to Infix:\", postfix_to_infix(post_exp))"
   ]
  },
  {
   "cell_type": "markdown",
   "id": "3b0edb7f-2027-467c-9b78-630e4de8f96a",
   "metadata": {},
   "source": [
    "### 10. Postfix to prefix"
   ]
  },
  {
   "cell_type": "code",
   "execution_count": 8,
   "id": "d3da08e5-05c2-47e7-9f56-b4131b601956",
   "metadata": {},
   "outputs": [
    {
     "name": "stdout",
     "output_type": "stream",
     "text": [
      "Postfix to prefix: -*+ABC^DE\n"
     ]
    }
   ],
   "source": [
    "def postfix_to_prefix(post_exp):\n",
    "    stack = []\n",
    "    for char in post_exp:\n",
    "        if char.isalpha() or char.isdigit():    # Check if character is an operand\n",
    "            stack.append(char)\n",
    "        else:                                   # Character is an operator\n",
    "            operand2 = stack.pop()\n",
    "            operand1 = stack.pop()\n",
    "            expression = char + operand1 + operand2\n",
    "            stack.append(expression)\n",
    "    return stack[-1]\n",
    "\n",
    "post_exp = \"AB+C*DE^-\"\n",
    "print(\"Postfix to prefix:\", postfix_to_prefix(post_exp))"
   ]
  },
  {
   "cell_type": "markdown",
   "id": "43acd1ad-f0ef-4432-96bc-fad73c46d34e",
   "metadata": {},
   "source": [
    "### 11. Prefix to infix"
   ]
  },
  {
   "cell_type": "code",
   "execution_count": 9,
   "id": "d1149792-a40c-4ee4-8791-60a5ebef2bdf",
   "metadata": {},
   "outputs": [
    {
     "name": "stdout",
     "output_type": "stream",
     "text": [
      "Prefix to Infix: (C*(B+A))\n"
     ]
    }
   ],
   "source": [
    "def prefix_to_infix(prefix):\n",
    "    stack = []\n",
    "    for char in prefix[::-1]:                   # Traverse the prefix expression from right to left\n",
    "        if char.isalpha() or char.isdigit():    # Check if character is an operand\n",
    "            stack.append(char)\n",
    "        else:                                   # Character is an operator\n",
    "            operand2 = stack.pop()\n",
    "            operand1 = stack.pop()\n",
    "            expression = f\"({operand1}{char}{operand2})\"\n",
    "            stack.append(expression)\n",
    "    return stack[-1]\n",
    "\n",
    "prefix = \"*+ABC\"\n",
    "print(\"Prefix to Infix:\", prefix_to_infix(prefix))"
   ]
  },
  {
   "cell_type": "markdown",
   "id": "28be686b-538f-497b-9797-dbeb2630c5a1",
   "metadata": {},
   "source": [
    "### 12. Prefix to postfix"
   ]
  },
  {
   "cell_type": "code",
   "execution_count": 10,
   "id": "70c83a04-9897-4137-8bfe-d8487abb65cd",
   "metadata": {},
   "outputs": [
    {
     "name": "stdout",
     "output_type": "stream",
     "text": [
      "Prefix to Postfix: AB+C*\n"
     ]
    }
   ],
   "source": [
    "def prefix_to_postfix(prefix):\n",
    "    stack = []\n",
    "    for char in prefix[::-1]:                   # Traverse the prefix expression from right to left\n",
    "        if char.isalpha() or char.isdigit():    # Check if character is an operand\n",
    "            stack.append(char)\n",
    "        else:                                   # Character is an operator\n",
    "            operand1 = stack.pop()\n",
    "            operand2 = stack.pop()\n",
    "            expression = operand1 + operand2 + char\n",
    "            stack.append(expression)\n",
    "    return stack[-1]\n",
    "\n",
    "prefix = \"*+ABC\"\n",
    "print(\"Prefix to Postfix:\", prefix_to_postfix(prefix))"
   ]
  },
  {
   "cell_type": "code",
   "execution_count": null,
   "id": "35ec20a1-126d-4d5b-b7cb-c734cbdebe41",
   "metadata": {},
   "outputs": [],
   "source": []
  }
 ],
 "metadata": {
  "kernelspec": {
   "display_name": "Python 3 (ipykernel)",
   "language": "python",
   "name": "python3"
  },
  "language_info": {
   "codemirror_mode": {
    "name": "ipython",
    "version": 3
   },
   "file_extension": ".py",
   "mimetype": "text/x-python",
   "name": "python",
   "nbconvert_exporter": "python",
   "pygments_lexer": "ipython3",
   "version": "3.12.5"
  }
 },
 "nbformat": 4,
 "nbformat_minor": 5
}
